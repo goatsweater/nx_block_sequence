{
 "cells": [
  {
   "cell_type": "markdown",
   "metadata": {},
   "source": [
    "# Sequencing using NetworkX\n",
    "Running sequencing through Pythons `networkx` module.\n",
    "\n",
    "## Inputs\n",
    "Using a combination of foundational layers, route through each listing unit (LU) to find the optimal route, by listing block (LB), for field operations to cover every address.\n",
    "\n",
    "## Outputs\n",
    "The output of the process is a table (either CSV or database table) in the format defined below. Additionally, start points (geospatial point objects) are produced for collection mapping.\n",
    "\n",
    "* LU_UID\n",
    "* LB_UID\n",
    "* LB_COLCODE\n",
    "* BF_UID\n",
    "* BF_COLCODE\n",
    "* CHAIN_ID\n",
    "* StartNodeNum - node identifier for BF start vertex\n",
    "* Start_X_coord\n",
    "* Start_Y_coord\n",
    "* EndNodeNum - node identifier for BF end vertex\n",
    "* End_x_coord\n",
    "* End_y_coord\n",
    "* LeftRightFLAG - which side of the road (NGD_AL) this BF represents\n",
    "\n",
    "Each LU is routed by block, numbering the blocks in order (LB_COLCODE) starting from 1. Further, the block faces (BF_COLCODE) are ordered within each block, starting from 1.\n",
    "\n",
    "The CHAIN_ID field is always set to 1 for the first block face, otherwise it is set to 0. Unsure what it is actually used for down stream, or why it needs to be maintained.\n",
    "\n",
    "# Methodology\n",
    "Before trying to route anything, create a single data set (GeoDataFrame) that contains all the required attributes. This is then loaded into a networkx MultiGraph and run through a eulerian circuit to ensure all edges are covered.\n",
    "\n",
    "## Process\n",
    "\n",
    "This process is heavily inspired by the work done solving the Chinese Postman Problem (CPP) at http://brooksandrew.github.io/simpleblog/articles/intro-to-graph-optimization-solving-cpp/. There are however significant deviances from the process presented in the article.\n",
    "\n",
    "The data set presented here represents the know universe of roads for every LU, and all roads must be traversed at least once in order for the enumeration to be considered successful. Further, every road is considered to have both a left and right side, represented by the `ARC_SIDE` value. Both sides of the road must be enumerated.\n",
    "\n",
    "### Breakdown of steps\n",
    "Conceptually, this is a relatively simple problem:\n",
    "\n",
    "1. Find all road intersections where the number of roads touching that intersection is an odd number. These are considered nodes of odd degree.\n",
    "2. Add edges to the graph such that all nodes of odd degree are made even. The added edges must be duplicates from the original graph, as people can only navigate on roads. The set of edges should sum to the minimum distance - this is the difficult part to find.\n",
    "3. Given a starting point (assumed to be the North East corner for this process), find the Eulerian circuit over the augmented data set. Once the roads being doubled back on, calculate the full route from start to end.\n",
    "\n",
    "\n",
    "## Source Layouts\n",
    "Below are the fields that are included in each of the input data layers.\n",
    "\n",
    "### Block Face (BF)\n",
    "BF_UID\n",
    "BB_UID\n",
    "CB_UID\n",
    "NGD_UID\n",
    "ARC_SIDE\n",
    "NGD_STR_UID\n",
    "CIVIC_LOW\n",
    "CIVIC_HIGH\n",
    "CIVIC_LOW_SRC_CDE\n",
    "CIVIC_HIGH_SRC_CDE\n",
    "PARITY\n",
    "ADDR_MDTE\n",
    "ENTRY_DTE\n",
    "NTD_MDTE\n",
    "LB_UID\n",
    "ALIAS1_STR_UID\n",
    "ALIAS2_STR_UID\n",
    "REPPOINT_LATITUDE\n",
    "REPPOINT_LONGITUDE\n",
    "REPPOINT_LAMBERT_X\n",
    "REPPOINT_LAMBERT_Y\n",
    "\n",
    "### Listing Unit (LU)\n",
    "LU_UID\n",
    "POLY_AREA\n",
    "POINT_X\n",
    "POINT_Y\n",
    "LUID\n",
    "LD_UID\n",
    "LDID\n",
    "PRCODE\n",
    "LUCODE\n",
    "LDCODE\n",
    "LU_HID\n",
    "MULTIPART\n",
    "I_CSD_ID\n",
    "I_CSD_OFFNAME\n",
    "LB_COUNT\n",
    "SHAPE_Length\n",
    "SHAPE_Area\n",
    "\n",
    "### Listing Block (LB)\n",
    "LB_UID\n",
    "LU_UID\n",
    "POLY_AREA\n",
    "LDID\n",
    "LFS_UID\n",
    "PRCODE\n",
    "CDCODE\n",
    "CSDCODE\n",
    "CSD_UID\n",
    "DACODE\n",
    "LBCODE\n",
    "P_CB_UID\n",
    "LB_COLCODE\n",
    "LUID\n",
    "LU_HID\n",
    "LB_UPDT_DATE\n",
    "REVIEW_FLAG\n",
    "S_FLAG\n",
    "SHAPE_Length\n",
    "SHAPE_Area\n",
    "\n",
    "### NGD_AL\n",
    "NGD_UID\n",
    "SGMNT_TYP_CDE\n",
    "SGMNT_SRC\n",
    "SRC_SGMNT_ID\n",
    "SGMNT_DTE\n",
    "ATTRBT_DTE\n",
    "GEOM_ACC_CDE\n",
    "STR_CLS_CDE\n",
    "STR_RNK_CDE\n",
    "BF_UID_L\n",
    "BF_UID_R\n",
    "AFL_VAL\n",
    "AFL_SFX\n",
    "AFL_DTE\n",
    "AFL_SRC\n",
    "ATL_VAL\n",
    "ATL_SFX\n",
    "ATL_DTE\n",
    "ATL_SRC\n",
    "AFR_VAL\n",
    "AFR_SFX\n",
    "AFR_DTE\n",
    "AFR_SRC\n",
    "ATR_VAL\n",
    "ATR_SFX\n",
    "ATR_DTE\n",
    "ATR_SRC\n",
    "ADDR_TYP_L\n",
    "ADDR_TYP_R\n",
    "ADDR_PRTY_L\n",
    "ADDR_PRTY_R\n",
    "NGD_STR_UID_L\n",
    "NGD_STR_UID_R\n",
    "NGD_STR_UID_DTE_L\n",
    "NGD_STR_UID_DTE_R\n",
    "ALIAS1_STR_UID_L\n",
    "ALIAS1_STR_UID_R\n",
    "ALIAS2_STR_UID_L\n",
    "ALIAS2_STR_UID_R\n",
    "CSD_UID_L\n",
    "CSD_UID_R\n",
    "NAME_SRC_L\n",
    "NAME_SRC_R\n",
    "STR_NME_PRFX_L\n",
    "STR_NME_PRFX_R\n",
    "STR_NME_L\n",
    "STR_NME_R\n",
    "STR_TYP_L\n",
    "STR_TYP_R\n",
    "STR_DIR_L\n",
    "STR_DIR_R\n",
    "STR_MUNI_QUAD_L\n",
    "STR_MUNI_QUAD_R\n",
    "STR_PARSD_NME_L\n",
    "STR_PARSD_NME_R\n",
    "STR_LABEL_NME_L\n",
    "STR_LABEL_NME_R\n",
    "SRCH_NME_L\n",
    "SRCH_NME_R\n",
    "SRCH_TYPE_L\n",
    "SRCH_TYPE_R\n",
    "SRCH_STR_DIR_L\n",
    "SRCH_STR_DIR_R\n",
    "PR_L\n",
    "PR_R\n",
    "SRCH_NME_L_ART\n",
    "SRCH_NME_R_ART\n",
    "SRCH_STR_DIR_L_ART\n",
    "SRCH_STR_DIR_R_ART\n",
    "SRCH_TYPE_L_ART\n",
    "SRCH_TYPE_R_ART\n",
    "ARC_LENGTH\n",
    "SHAPE_Length"
   ]
  },
  {
   "cell_type": "code",
   "execution_count": 1,
   "metadata": {},
   "outputs": [],
   "source": [
    "import copy\n",
    "import itertools\n",
    "from pathlib import Path\n",
    "\n",
    "import fiona\n",
    "import geopandas as gpd\n",
    "import matplotlib.pyplot as plt\n",
    "import networkx as nx\n",
    "import numpy as np\n",
    "import pandas as pd\n",
    "from shapely.geometry import LineString, Point"
   ]
  },
  {
   "cell_type": "code",
   "execution_count": 2,
   "metadata": {},
   "outputs": [],
   "source": [
    "# paths\n",
    "in_data_path = r'/Users/goatsweater/Projects/stc/sequencing/testdata/Sample_data.gdb'\n",
    "bf_layer_name = 'BF'\n",
    "ngdal_layer_name = 'ROADS'\n",
    "lb_layer_name = 'LB'\n",
    "lu_layer_name = 'LU'\n",
    "bf_csv_path = r'/Users/goatsweater/Projects/stc/sequencing/testdata/bf.csv'\n",
    "\n",
    "# values used throughout\n",
    "weight_field_name = 'SHAPE_Length'"
   ]
  },
  {
   "cell_type": "markdown",
   "metadata": {},
   "source": [
    "# DataFrame Creation\n",
    "Generate a GeoDataFrame from all the input layers to provide all the required information to `networkx`. These are combined to create a single data frame that includes the BF_UID, LB_UID, LU_UID, ARC_SIDE, and node vertex information. Achieving this requires a join of the NGD_AL, LB, LU, and BF layers together."
   ]
  },
  {
   "cell_type": "code",
   "execution_count": 3,
   "metadata": {},
   "outputs": [],
   "source": [
    "# define a record reader to avoid loading all of a layers attributes. This is purely to save memory, and won't \n",
    "# result in any speedup, but helps manage with large datasets.\n",
    "# Credit to https://gis.stackexchange.com/questions/129414/only-read-specific-attribute-columns-of-a-shapefile-with-geopandas-fiona\n",
    "def records(filename, usecols, **kwargs):\n",
    "    with fiona.open(filename, **kwargs) as source:\n",
    "        for feature in source:\n",
    "            f = {k: feature[k] for k in ['id', 'geometry']}\n",
    "            f['properties'] = {k: feature['properties'][k] for k in usecols}\n",
    "            yield f"
   ]
  },
  {
   "cell_type": "code",
   "execution_count": 4,
   "metadata": {},
   "outputs": [
    {
     "data": {
      "text/html": [
       "<div>\n",
       "<style scoped>\n",
       "    .dataframe tbody tr th:only-of-type {\n",
       "        vertical-align: middle;\n",
       "    }\n",
       "\n",
       "    .dataframe tbody tr th {\n",
       "        vertical-align: top;\n",
       "    }\n",
       "\n",
       "    .dataframe thead th {\n",
       "        text-align: right;\n",
       "    }\n",
       "</style>\n",
       "<table border=\"1\" class=\"dataframe\">\n",
       "  <thead>\n",
       "    <tr style=\"text-align: right;\">\n",
       "      <th></th>\n",
       "      <th>NGD_UID</th>\n",
       "      <th>SHAPE_Length</th>\n",
       "      <th>geometry</th>\n",
       "    </tr>\n",
       "  </thead>\n",
       "  <tbody>\n",
       "    <tr>\n",
       "      <th>0</th>\n",
       "      <td>2758288</td>\n",
       "      <td>299.066820</td>\n",
       "      <td>(LINESTRING (3722405.06 2709708.722857143, 372...</td>\n",
       "    </tr>\n",
       "    <tr>\n",
       "      <th>1</th>\n",
       "      <td>2758636</td>\n",
       "      <td>569.803302</td>\n",
       "      <td>(LINESTRING (3723668.391428571 2710929.4457142...</td>\n",
       "    </tr>\n",
       "    <tr>\n",
       "      <th>2</th>\n",
       "      <td>2758874</td>\n",
       "      <td>277.067441</td>\n",
       "      <td>(LINESTRING (3727011.442857143 2714613.6571428...</td>\n",
       "    </tr>\n",
       "    <tr>\n",
       "      <th>3</th>\n",
       "      <td>2759085</td>\n",
       "      <td>525.544878</td>\n",
       "      <td>(LINESTRING (3732677.502857143 2741944.84, 373...</td>\n",
       "    </tr>\n",
       "    <tr>\n",
       "      <th>4</th>\n",
       "      <td>2758996</td>\n",
       "      <td>1033.104971</td>\n",
       "      <td>(LINESTRING (3734456.685714286 2745863.2114285...</td>\n",
       "    </tr>\n",
       "  </tbody>\n",
       "</table>\n",
       "</div>"
      ],
      "text/plain": [
       "   NGD_UID  SHAPE_Length                                           geometry\n",
       "0  2758288    299.066820  (LINESTRING (3722405.06 2709708.722857143, 372...\n",
       "1  2758636    569.803302  (LINESTRING (3723668.391428571 2710929.4457142...\n",
       "2  2758874    277.067441  (LINESTRING (3727011.442857143 2714613.6571428...\n",
       "3  2759085    525.544878  (LINESTRING (3732677.502857143 2741944.84, 373...\n",
       "4  2758996   1033.104971  (LINESTRING (3734456.685714286 2745863.2114285..."
      ]
     },
     "execution_count": 4,
     "metadata": {},
     "output_type": "execute_result"
    }
   ],
   "source": [
    "# load the road network\n",
    "# we don't care about all the columns, so use a feature loader to pull only valuable inputs\n",
    "lines = gpd.GeoDataFrame.from_features(records(in_data_path, \n",
    "                                               ['NGD_UID',weight_field_name], \n",
    "                                               layer=ngdal_layer_name))\n",
    "lines.head()"
   ]
  },
  {
   "cell_type": "code",
   "execution_count": 5,
   "metadata": {},
   "outputs": [
    {
     "data": {
      "text/html": [
       "<div>\n",
       "<style scoped>\n",
       "    .dataframe tbody tr th:only-of-type {\n",
       "        vertical-align: middle;\n",
       "    }\n",
       "\n",
       "    .dataframe tbody tr th {\n",
       "        vertical-align: top;\n",
       "    }\n",
       "\n",
       "    .dataframe thead th {\n",
       "        text-align: right;\n",
       "    }\n",
       "</style>\n",
       "<table border=\"1\" class=\"dataframe\">\n",
       "  <thead>\n",
       "    <tr style=\"text-align: right;\">\n",
       "      <th></th>\n",
       "      <th>BF_UID</th>\n",
       "      <th>BB_UID</th>\n",
       "      <th>NGD_UID</th>\n",
       "      <th>ARC_SIDE</th>\n",
       "      <th>LB_UID</th>\n",
       "    </tr>\n",
       "  </thead>\n",
       "  <tbody>\n",
       "    <tr>\n",
       "      <th>0</th>\n",
       "      <td>18166</td>\n",
       "      <td>36726</td>\n",
       "      <td>1139947</td>\n",
       "      <td>L</td>\n",
       "      <td>36726</td>\n",
       "    </tr>\n",
       "    <tr>\n",
       "      <th>1</th>\n",
       "      <td>18168</td>\n",
       "      <td>36705</td>\n",
       "      <td>1139949</td>\n",
       "      <td>L</td>\n",
       "      <td>36705</td>\n",
       "    </tr>\n",
       "    <tr>\n",
       "      <th>2</th>\n",
       "      <td>18170</td>\n",
       "      <td>36706</td>\n",
       "      <td>1139951</td>\n",
       "      <td>L</td>\n",
       "      <td>36706</td>\n",
       "    </tr>\n",
       "    <tr>\n",
       "      <th>3</th>\n",
       "      <td>18172</td>\n",
       "      <td>36708</td>\n",
       "      <td>1139953</td>\n",
       "      <td>L</td>\n",
       "      <td>36708</td>\n",
       "    </tr>\n",
       "    <tr>\n",
       "      <th>4</th>\n",
       "      <td>18175</td>\n",
       "      <td>36709</td>\n",
       "      <td>1139956</td>\n",
       "      <td>L</td>\n",
       "      <td>36709</td>\n",
       "    </tr>\n",
       "  </tbody>\n",
       "</table>\n",
       "</div>"
      ],
      "text/plain": [
       "   BF_UID  BB_UID  NGD_UID ARC_SIDE  LB_UID\n",
       "0   18166   36726  1139947        L   36726\n",
       "1   18168   36705  1139949        L   36705\n",
       "2   18170   36706  1139951        L   36706\n",
       "3   18172   36708  1139953        L   36708\n",
       "4   18175   36709  1139956        L   36709"
      ]
     },
     "execution_count": 5,
     "metadata": {},
     "output_type": "execute_result"
    }
   ],
   "source": [
    "# load BF data\n",
    "#bf = gpd.GeoDataFrame.from_features(records(in_data_path, \n",
    "#                                            ['NGD_UID', 'BF_UID', 'BB_UID', 'ARC_SIDE', 'LB_UID'], \n",
    "#                                            layer=bf_layer_name))\n",
    "# This is a table, so make a standard pandas DataFrame, not a GeoDataFrame\n",
    "bf = pd.read_csv(bf_csv_path, usecols=['NGD_UID', 'BF_UID', 'BB_UID', 'ARC_SIDE', 'LB_UID'])\n",
    "bf.head()"
   ]
  },
  {
   "cell_type": "code",
   "execution_count": 5,
   "metadata": {},
   "outputs": [
    {
     "data": {
      "text/html": [
       "<div>\n",
       "<style scoped>\n",
       "    .dataframe tbody tr th:only-of-type {\n",
       "        vertical-align: middle;\n",
       "    }\n",
       "\n",
       "    .dataframe tbody tr th {\n",
       "        vertical-align: top;\n",
       "    }\n",
       "\n",
       "    .dataframe thead th {\n",
       "        text-align: right;\n",
       "    }\n",
       "</style>\n",
       "<table border=\"1\" class=\"dataframe\">\n",
       "  <thead>\n",
       "    <tr style=\"text-align: right;\">\n",
       "      <th></th>\n",
       "      <th>ARC_SIDE</th>\n",
       "      <th>BB_UID</th>\n",
       "      <th>BF_UID</th>\n",
       "      <th>LB_UID</th>\n",
       "      <th>NGD_UID</th>\n",
       "    </tr>\n",
       "  </thead>\n",
       "  <tbody>\n",
       "    <tr>\n",
       "      <th>0</th>\n",
       "      <td>L</td>\n",
       "      <td>36726</td>\n",
       "      <td>18166</td>\n",
       "      <td>36726</td>\n",
       "      <td>1139947</td>\n",
       "    </tr>\n",
       "    <tr>\n",
       "      <th>1</th>\n",
       "      <td>L</td>\n",
       "      <td>36705</td>\n",
       "      <td>18168</td>\n",
       "      <td>36705</td>\n",
       "      <td>1139949</td>\n",
       "    </tr>\n",
       "    <tr>\n",
       "      <th>2</th>\n",
       "      <td>L</td>\n",
       "      <td>36706</td>\n",
       "      <td>18170</td>\n",
       "      <td>36706</td>\n",
       "      <td>1139951</td>\n",
       "    </tr>\n",
       "    <tr>\n",
       "      <th>3</th>\n",
       "      <td>L</td>\n",
       "      <td>36708</td>\n",
       "      <td>18172</td>\n",
       "      <td>36708</td>\n",
       "      <td>1139953</td>\n",
       "    </tr>\n",
       "    <tr>\n",
       "      <th>4</th>\n",
       "      <td>L</td>\n",
       "      <td>36709</td>\n",
       "      <td>18175</td>\n",
       "      <td>36709</td>\n",
       "      <td>1139956</td>\n",
       "    </tr>\n",
       "  </tbody>\n",
       "</table>\n",
       "</div>"
      ],
      "text/plain": [
       "  ARC_SIDE  BB_UID  BF_UID  LB_UID  NGD_UID\n",
       "0        L   36726   18166   36726  1139947\n",
       "1        L   36705   18168   36705  1139949\n",
       "2        L   36706   18170   36706  1139951\n",
       "3        L   36708   18172   36708  1139953\n",
       "4        L   36709   18175   36709  1139956"
      ]
     },
     "execution_count": 5,
     "metadata": {},
     "output_type": "execute_result"
    }
   ],
   "source": [
    "def table(filename, usecols, **kwargs):\n",
    "  \"\"\"Read a table from a data source, gathering only the desired columns.\n",
    "\n",
    "  Parameters:\n",
    "    filename: the filename to read data from\n",
    "    usecols: the columns to pull out of the data source\n",
    "    kwargs: any additional arguments that should be passed through to fiona\n",
    "  Returns:\n",
    "    feature: a geojson feature with the usecols as properties\n",
    "  \"\"\"\n",
    "\n",
    "  with fiona.open(filename, **kwargs) as source:\n",
    "    for feature in source:\n",
    "      f = {k: feature['properties'][k] for k in usecols}\n",
    "      yield f\n",
    "        \n",
    "bf_all = pd.DataFrame.from_records(table(in_data_path, \n",
    "                                         ['NGD_UID', 'BF_UID', 'BB_UID', 'ARC_SIDE', 'LB_UID'], \n",
    "                                         layer=bf_layer_name))\n",
    "bf_all.head()"
   ]
  },
  {
   "cell_type": "code",
   "execution_count": 6,
   "metadata": {},
   "outputs": [
    {
     "data": {
      "text/html": [
       "<div>\n",
       "<style scoped>\n",
       "    .dataframe tbody tr th:only-of-type {\n",
       "        vertical-align: middle;\n",
       "    }\n",
       "\n",
       "    .dataframe tbody tr th {\n",
       "        vertical-align: top;\n",
       "    }\n",
       "\n",
       "    .dataframe thead th {\n",
       "        text-align: right;\n",
       "    }\n",
       "</style>\n",
       "<table border=\"1\" class=\"dataframe\">\n",
       "  <thead>\n",
       "    <tr style=\"text-align: right;\">\n",
       "      <th></th>\n",
       "      <th>LB_UID</th>\n",
       "      <th>LFS_UID</th>\n",
       "      <th>LU_UID</th>\n",
       "      <th>S_FLAG</th>\n",
       "    </tr>\n",
       "  </thead>\n",
       "  <tbody>\n",
       "    <tr>\n",
       "      <th>0</th>\n",
       "      <td>54924</td>\n",
       "      <td>4662011810142</td>\n",
       "      <td>45519</td>\n",
       "      <td>1.0</td>\n",
       "    </tr>\n",
       "    <tr>\n",
       "      <th>1</th>\n",
       "      <td>54937</td>\n",
       "      <td>4662011810142</td>\n",
       "      <td>45519</td>\n",
       "      <td>1.0</td>\n",
       "    </tr>\n",
       "    <tr>\n",
       "      <th>2</th>\n",
       "      <td>54945</td>\n",
       "      <td>4662011810142</td>\n",
       "      <td>45519</td>\n",
       "      <td>1.0</td>\n",
       "    </tr>\n",
       "    <tr>\n",
       "      <th>3</th>\n",
       "      <td>58319</td>\n",
       "      <td>4662842110072</td>\n",
       "      <td>45605</td>\n",
       "      <td>1.0</td>\n",
       "    </tr>\n",
       "    <tr>\n",
       "      <th>4</th>\n",
       "      <td>58320</td>\n",
       "      <td>4662842110072</td>\n",
       "      <td>45605</td>\n",
       "      <td>1.0</td>\n",
       "    </tr>\n",
       "  </tbody>\n",
       "</table>\n",
       "</div>"
      ],
      "text/plain": [
       "   LB_UID        LFS_UID  LU_UID  S_FLAG\n",
       "0   54924  4662011810142   45519     1.0\n",
       "1   54937  4662011810142   45519     1.0\n",
       "2   54945  4662011810142   45519     1.0\n",
       "3   58319  4662842110072   45605     1.0\n",
       "4   58320  4662842110072   45605     1.0"
      ]
     },
     "execution_count": 6,
     "metadata": {},
     "output_type": "execute_result"
    }
   ],
   "source": [
    "# load LB data\n",
    "lb = gpd.GeoDataFrame.from_features(records(in_data_path, \n",
    "                                            ['LB_UID', 'LU_UID','S_FLAG','LFS_UID'], \n",
    "                                            layer=lb_layer_name))\n",
    "# drop the geometry - it won't be used\n",
    "lb.drop(columns='geometry', inplace=True)\n",
    "\n",
    "# only keep S_FLAG LBs\n",
    "#lb = lb.loc[lb['S_FLAG'] == 1]\n",
    "lb.head()"
   ]
  },
  {
   "cell_type": "code",
   "execution_count": 7,
   "metadata": {},
   "outputs": [],
   "source": [
    "bf['ARC_SIDE'] = bf['ARC_SIDE'].astype('category')"
   ]
  },
  {
   "cell_type": "code",
   "execution_count": 8,
   "metadata": {
    "scrolled": true
   },
   "outputs": [
    {
     "data": {
      "text/html": [
       "<div>\n",
       "<style scoped>\n",
       "    .dataframe tbody tr th:only-of-type {\n",
       "        vertical-align: middle;\n",
       "    }\n",
       "\n",
       "    .dataframe tbody tr th {\n",
       "        vertical-align: top;\n",
       "    }\n",
       "\n",
       "    .dataframe thead th {\n",
       "        text-align: right;\n",
       "    }\n",
       "</style>\n",
       "<table border=\"1\" class=\"dataframe\">\n",
       "  <thead>\n",
       "    <tr style=\"text-align: right;\">\n",
       "      <th></th>\n",
       "      <th>NGD_UID</th>\n",
       "      <th>SHAPE_Length</th>\n",
       "      <th>geometry</th>\n",
       "      <th>BF_UID</th>\n",
       "      <th>BB_UID</th>\n",
       "      <th>ARC_SIDE</th>\n",
       "      <th>LB_UID</th>\n",
       "      <th>LFS_UID</th>\n",
       "      <th>LU_UID</th>\n",
       "      <th>S_FLAG</th>\n",
       "    </tr>\n",
       "  </thead>\n",
       "  <tbody>\n",
       "    <tr>\n",
       "      <th>0</th>\n",
       "      <td>2758288</td>\n",
       "      <td>299.066820</td>\n",
       "      <td>(LINESTRING (3722405.06 2709708.722857143, 372...</td>\n",
       "      <td>8162444</td>\n",
       "      <td>729363</td>\n",
       "      <td>L</td>\n",
       "      <td>829332</td>\n",
       "      <td>5999994x40830</td>\n",
       "      <td>75481</td>\n",
       "      <td>1.0</td>\n",
       "    </tr>\n",
       "    <tr>\n",
       "      <th>1</th>\n",
       "      <td>3226901</td>\n",
       "      <td>354.937777</td>\n",
       "      <td>(LINESTRING (3722405.06 2709708.722857143, 372...</td>\n",
       "      <td>4440203</td>\n",
       "      <td>729363</td>\n",
       "      <td>L</td>\n",
       "      <td>829332</td>\n",
       "      <td>5999994x40830</td>\n",
       "      <td>75481</td>\n",
       "      <td>1.0</td>\n",
       "    </tr>\n",
       "    <tr>\n",
       "      <th>2</th>\n",
       "      <td>3226900</td>\n",
       "      <td>493.028036</td>\n",
       "      <td>(LINESTRING (3722414.205714286 2710089.9285714...</td>\n",
       "      <td>8162437</td>\n",
       "      <td>729363</td>\n",
       "      <td>R</td>\n",
       "      <td>829332</td>\n",
       "      <td>5999994x40830</td>\n",
       "      <td>75481</td>\n",
       "      <td>1.0</td>\n",
       "    </tr>\n",
       "    <tr>\n",
       "      <th>3</th>\n",
       "      <td>2758636</td>\n",
       "      <td>569.803302</td>\n",
       "      <td>(LINESTRING (3723668.391428571 2710929.4457142...</td>\n",
       "      <td>8162480</td>\n",
       "      <td>729350</td>\n",
       "      <td>L</td>\n",
       "      <td>829334</td>\n",
       "      <td>5999994x40830</td>\n",
       "      <td>75481</td>\n",
       "      <td>1.0</td>\n",
       "    </tr>\n",
       "    <tr>\n",
       "      <th>4</th>\n",
       "      <td>3226883</td>\n",
       "      <td>1855.350538</td>\n",
       "      <td>(LINESTRING (3724191.32 2712264.105714286, 372...</td>\n",
       "      <td>8162485</td>\n",
       "      <td>729350</td>\n",
       "      <td>R</td>\n",
       "      <td>829334</td>\n",
       "      <td>5999994x40830</td>\n",
       "      <td>75481</td>\n",
       "      <td>1.0</td>\n",
       "    </tr>\n",
       "  </tbody>\n",
       "</table>\n",
       "</div>"
      ],
      "text/plain": [
       "   NGD_UID  SHAPE_Length                                           geometry  \\\n",
       "0  2758288    299.066820  (LINESTRING (3722405.06 2709708.722857143, 372...   \n",
       "1  3226901    354.937777  (LINESTRING (3722405.06 2709708.722857143, 372...   \n",
       "2  3226900    493.028036  (LINESTRING (3722414.205714286 2710089.9285714...   \n",
       "3  2758636    569.803302  (LINESTRING (3723668.391428571 2710929.4457142...   \n",
       "4  3226883   1855.350538  (LINESTRING (3724191.32 2712264.105714286, 372...   \n",
       "\n",
       "    BF_UID  BB_UID ARC_SIDE  LB_UID        LFS_UID  LU_UID  S_FLAG  \n",
       "0  8162444  729363        L  829332  5999994x40830   75481     1.0  \n",
       "1  4440203  729363        L  829332  5999994x40830   75481     1.0  \n",
       "2  8162437  729363        R  829332  5999994x40830   75481     1.0  \n",
       "3  8162480  729350        L  829334  5999994x40830   75481     1.0  \n",
       "4  8162485  729350        R  829334  5999994x40830   75481     1.0  "
      ]
     },
     "execution_count": 8,
     "metadata": {},
     "output_type": "execute_result"
    }
   ],
   "source": [
    "# merge everything onto the line network\n",
    "# a left merge is used to ensure no lines are dropped (BOs)\n",
    "#lines.merge(bf, how='left', on='NGD_UID', sort=False, copy=False)\n",
    "\n",
    "# trying it without the BOs\n",
    "lines = lines.merge(bf, on='NGD_UID', sort=False)\n",
    "lines = lines.merge(lb, on='LB_UID', sort=False, copy=False)\n",
    "lines.head()"
   ]
  },
  {
   "cell_type": "markdown",
   "metadata": {},
   "source": [
    "NetworkX has no way to convert a geodataframe directly into a Graph based on the geometry column. The start and end point columns thus need to be generated.\n",
    "\n",
    "Every geometry is actually stored as a MultiLineString, despite there only being one line in them."
   ]
  },
  {
   "cell_type": "code",
   "execution_count": 9,
   "metadata": {},
   "outputs": [
    {
     "data": {
      "text/html": [
       "<div>\n",
       "<style scoped>\n",
       "    .dataframe tbody tr th:only-of-type {\n",
       "        vertical-align: middle;\n",
       "    }\n",
       "\n",
       "    .dataframe tbody tr th {\n",
       "        vertical-align: top;\n",
       "    }\n",
       "\n",
       "    .dataframe thead th {\n",
       "        text-align: right;\n",
       "    }\n",
       "</style>\n",
       "<table border=\"1\" class=\"dataframe\">\n",
       "  <thead>\n",
       "    <tr style=\"text-align: right;\">\n",
       "      <th></th>\n",
       "      <th>NGD_UID</th>\n",
       "      <th>SHAPE_Length</th>\n",
       "      <th>geometry</th>\n",
       "      <th>BF_UID</th>\n",
       "      <th>BB_UID</th>\n",
       "      <th>ARC_SIDE</th>\n",
       "      <th>LB_UID</th>\n",
       "      <th>LFS_UID</th>\n",
       "      <th>LU_UID</th>\n",
       "      <th>S_FLAG</th>\n",
       "      <th>start_node</th>\n",
       "      <th>end_node</th>\n",
       "      <th>start_node_id</th>\n",
       "      <th>end_node_id</th>\n",
       "    </tr>\n",
       "  </thead>\n",
       "  <tbody>\n",
       "    <tr>\n",
       "      <th>0</th>\n",
       "      <td>2758288</td>\n",
       "      <td>299.066820</td>\n",
       "      <td>(LINESTRING (3722405.06 2709708.722857143, 372...</td>\n",
       "      <td>8162444</td>\n",
       "      <td>729363</td>\n",
       "      <td>L</td>\n",
       "      <td>829332</td>\n",
       "      <td>5999994x40830</td>\n",
       "      <td>75481</td>\n",
       "      <td>1.0</td>\n",
       "      <td>(3722405.06, 2709708.722857143)</td>\n",
       "      <td>(3722691.845714286, 2709793.5457142857)</td>\n",
       "      <td>1</td>\n",
       "      <td>2</td>\n",
       "    </tr>\n",
       "    <tr>\n",
       "      <th>1</th>\n",
       "      <td>3226901</td>\n",
       "      <td>354.937777</td>\n",
       "      <td>(LINESTRING (3722405.06 2709708.722857143, 372...</td>\n",
       "      <td>4440203</td>\n",
       "      <td>729363</td>\n",
       "      <td>L</td>\n",
       "      <td>829332</td>\n",
       "      <td>5999994x40830</td>\n",
       "      <td>75481</td>\n",
       "      <td>1.0</td>\n",
       "      <td>(3722405.06, 2709708.722857143)</td>\n",
       "      <td>(3722090.5914285714, 2709852.354285714)</td>\n",
       "      <td>3</td>\n",
       "      <td>4</td>\n",
       "    </tr>\n",
       "    <tr>\n",
       "      <th>2</th>\n",
       "      <td>3226900</td>\n",
       "      <td>493.028036</td>\n",
       "      <td>(LINESTRING (3722414.205714286 2710089.9285714...</td>\n",
       "      <td>8162437</td>\n",
       "      <td>729363</td>\n",
       "      <td>R</td>\n",
       "      <td>829332</td>\n",
       "      <td>5999994x40830</td>\n",
       "      <td>75481</td>\n",
       "      <td>1.0</td>\n",
       "      <td>(3722414.205714286, 2710089.9285714286)</td>\n",
       "      <td>(3722691.845714286, 2709793.5457142857)</td>\n",
       "      <td>5</td>\n",
       "      <td>6</td>\n",
       "    </tr>\n",
       "    <tr>\n",
       "      <th>3</th>\n",
       "      <td>2758636</td>\n",
       "      <td>569.803302</td>\n",
       "      <td>(LINESTRING (3723668.391428571 2710929.4457142...</td>\n",
       "      <td>8162480</td>\n",
       "      <td>729350</td>\n",
       "      <td>L</td>\n",
       "      <td>829334</td>\n",
       "      <td>5999994x40830</td>\n",
       "      <td>75481</td>\n",
       "      <td>1.0</td>\n",
       "      <td>(3723668.391428571, 2710929.4457142856)</td>\n",
       "      <td>(3724009.305714286, 2710557.0057142857)</td>\n",
       "      <td>7</td>\n",
       "      <td>8</td>\n",
       "    </tr>\n",
       "    <tr>\n",
       "      <th>4</th>\n",
       "      <td>3226883</td>\n",
       "      <td>1855.350538</td>\n",
       "      <td>(LINESTRING (3724191.32 2712264.105714286, 372...</td>\n",
       "      <td>8162485</td>\n",
       "      <td>729350</td>\n",
       "      <td>R</td>\n",
       "      <td>829334</td>\n",
       "      <td>5999994x40830</td>\n",
       "      <td>75481</td>\n",
       "      <td>1.0</td>\n",
       "      <td>(3724191.32, 2712264.1057142857)</td>\n",
       "      <td>(3724009.305714286, 2710557.0057142857)</td>\n",
       "      <td>9</td>\n",
       "      <td>10</td>\n",
       "    </tr>\n",
       "  </tbody>\n",
       "</table>\n",
       "</div>"
      ],
      "text/plain": [
       "   NGD_UID  SHAPE_Length                                           geometry  \\\n",
       "0  2758288    299.066820  (LINESTRING (3722405.06 2709708.722857143, 372...   \n",
       "1  3226901    354.937777  (LINESTRING (3722405.06 2709708.722857143, 372...   \n",
       "2  3226900    493.028036  (LINESTRING (3722414.205714286 2710089.9285714...   \n",
       "3  2758636    569.803302  (LINESTRING (3723668.391428571 2710929.4457142...   \n",
       "4  3226883   1855.350538  (LINESTRING (3724191.32 2712264.105714286, 372...   \n",
       "\n",
       "    BF_UID  BB_UID ARC_SIDE  LB_UID        LFS_UID  LU_UID  S_FLAG  \\\n",
       "0  8162444  729363        L  829332  5999994x40830   75481     1.0   \n",
       "1  4440203  729363        L  829332  5999994x40830   75481     1.0   \n",
       "2  8162437  729363        R  829332  5999994x40830   75481     1.0   \n",
       "3  8162480  729350        L  829334  5999994x40830   75481     1.0   \n",
       "4  8162485  729350        R  829334  5999994x40830   75481     1.0   \n",
       "\n",
       "                                start_node  \\\n",
       "0          (3722405.06, 2709708.722857143)   \n",
       "1          (3722405.06, 2709708.722857143)   \n",
       "2  (3722414.205714286, 2710089.9285714286)   \n",
       "3  (3723668.391428571, 2710929.4457142856)   \n",
       "4         (3724191.32, 2712264.1057142857)   \n",
       "\n",
       "                                  end_node  start_node_id  end_node_id  \n",
       "0  (3722691.845714286, 2709793.5457142857)              1            2  \n",
       "1  (3722090.5914285714, 2709852.354285714)              3            4  \n",
       "2  (3722691.845714286, 2709793.5457142857)              5            6  \n",
       "3  (3724009.305714286, 2710557.0057142857)              7            8  \n",
       "4  (3724009.305714286, 2710557.0057142857)              9           10  "
      ]
     },
     "execution_count": 9,
     "metadata": {},
     "output_type": "execute_result"
    }
   ],
   "source": [
    "# Every geometry is actually stored as a MultiLineString, despite there only being one line in them.\n",
    "lines['start_node'] = lines.geometry.apply(lambda x: x[0].coords[0])\n",
    "lines['end_node'] = lines.geometry.apply(lambda x: x[0].coords[-1])\n",
    "# generate a unique identifier for each node (start and end have unique IDs)\n",
    "id_scope = len(lines)*2\n",
    "lines['start_node_id'] = range(1, id_scope, 2)\n",
    "lines['end_node_id'] = range(2, id_scope+1, 2)\n",
    "lines.head()"
   ]
  },
  {
   "cell_type": "markdown",
   "metadata": {},
   "source": [
    "# Route the roads by LU\n",
    "Iterate through each LU, routing the network.\n",
    "\n",
    "This needs to generate a network from the grouped values (a dataframe representing a single LU). "
   ]
  },
  {
   "cell_type": "code",
   "execution_count": 10,
   "metadata": {},
   "outputs": [],
   "source": [
    "# group the roads by their parent LU\n",
    "grouped = lines.groupby('LU_UID')"
   ]
  },
  {
   "cell_type": "code",
   "execution_count": 11,
   "metadata": {},
   "outputs": [
    {
     "data": {
      "text/plain": [
       "[((5194961.445714286, 1898936.5914285714),\n",
       "  (5196526.962857143, 1898566.4142857143),\n",
       "  {'NGD_UID': 2077952,\n",
       "   'SHAPE_Length': 1608.6873660454746,\n",
       "   'geometry': <shapely.geometry.multilinestring.MultiLineString at 0x113dd94a8>,\n",
       "   'BF_UID': 11552475,\n",
       "   'BB_UID': 326737,\n",
       "   'ARC_SIDE': 'L',\n",
       "   'LB_UID': 326737,\n",
       "   'LFS_UID': '4772601010343',\n",
       "   'LU_UID': 54118,\n",
       "   'S_FLAG': nan,\n",
       "   'start_node_id': 27169,\n",
       "   'end_node_id': 27170}),\n",
       " ((5194961.445714286, 1898936.5914285714),\n",
       "  (5196526.962857143, 1898566.4142857143),\n",
       "  {'NGD_UID': 2077952,\n",
       "   'SHAPE_Length': 1608.6873660454746,\n",
       "   'geometry': <shapely.geometry.multilinestring.MultiLineString at 0x113dd94a8>,\n",
       "   'BF_UID': 11552476,\n",
       "   'BB_UID': 1521486,\n",
       "   'ARC_SIDE': 'R',\n",
       "   'LB_UID': 791526,\n",
       "   'LFS_UID': '4772601010343',\n",
       "   'LU_UID': 54118,\n",
       "   'S_FLAG': nan,\n",
       "   'start_node_id': 27177,\n",
       "   'end_node_id': 27178}),\n",
       " ((5194961.445714286, 1898936.5914285714),\n",
       "  (5195335.594285714, 1900492.12),\n",
       "  {'NGD_UID': 2077945,\n",
       "   'SHAPE_Length': 1599.8925870299397,\n",
       "   'geometry': <shapely.geometry.multilinestring.MultiLineString at 0x11467f5f8>,\n",
       "   'BF_UID': 11605964,\n",
       "   'BB_UID': 326737,\n",
       "   'ARC_SIDE': 'R',\n",
       "   'LB_UID': 326737,\n",
       "   'LFS_UID': '4772601010343',\n",
       "   'LU_UID': 54118,\n",
       "   'S_FLAG': nan,\n",
       "   'start_node_id': 27175,\n",
       "   'end_node_id': 27176})]"
      ]
     },
     "execution_count": 11,
     "metadata": {},
     "output_type": "execute_result"
    }
   ],
   "source": [
    "# normally we want to iterate all of the LUs, but for testing just grab one\n",
    "# 75481 presents a disconnected network, so a good example to work through difficult areas\n",
    "# 1672 is a nice easy sample, so we'll work with that\n",
    "# 54118 is the sample for comparison\n",
    "group = grouped.get_group(54118)\n",
    "g = nx.convert_matrix.from_pandas_edgelist(group, 'start_node', 'end_node', True, nx.MultiGraph)\n",
    "\n",
    "# preview\n",
    "list(g.edges(data=True))[:3]"
   ]
  },
  {
   "cell_type": "code",
   "execution_count": 12,
   "metadata": {},
   "outputs": [
    {
     "data": {
      "text/plain": [
       "True"
      ]
     },
     "execution_count": 12,
     "metadata": {},
     "output_type": "execute_result"
    }
   ],
   "source": [
    "# test for connectivity before trying to analyze an unconnected graph, which will throw errors\n",
    "nx.is_connected(g)"
   ]
  },
  {
   "cell_type": "code",
   "execution_count": 13,
   "metadata": {},
   "outputs": [
    {
     "data": {
      "image/png": "[encoded data removed]",
      "text/plain": [
       "<Figure size 576x432 with 1 Axes>"
      ]
     },
     "metadata": {
      "needs_background": "light"
     },
     "output_type": "display_data"
    }
   ],
   "source": [
    "# Define node positions data structure (dict) for plotting\n",
    "node_positions = {node[0]: (node[0][0], -node[0][1]) for node in g.nodes(data=True)}\n",
    "\n",
    "# visualize the fully connected graph\n",
    "plt.figure(figsize=(8,6))\n",
    "pos_random = nx.random_layout(g)\n",
    "nx.draw_networkx_nodes(g, node_positions, node_size=20, node_color=\"red\")\n",
    "nx.draw_networkx_edges(g, node_positions, alpha=0.1)\n",
    "plt.axis('off')\n",
    "plt.title('Initial Graph')\n",
    "plt.show()"
   ]
  },
  {
   "cell_type": "code",
   "execution_count": 20,
   "metadata": {},
   "outputs": [
    {
     "data": {
      "text/plain": [
       "set()"
      ]
     },
     "execution_count": 20,
     "metadata": {},
     "output_type": "execute_result"
    }
   ],
   "source": [
    "nx.node_boundary(g,g.nodes())\n"
   ]
  },
  {
   "cell_type": "markdown",
   "metadata": {},
   "source": [
    "## Step 1: Find nodes of odd degree\n",
    "This finds nodes that are dead-ends and intersections"
   ]
  },
  {
   "cell_type": "code",
   "execution_count": 14,
   "metadata": {},
   "outputs": [
    {
     "data": {
      "text/plain": [
       "[(5200475.762857143, 1894320.582857143),\n",
       " (5201460.208571428, 1894117.6285714286),\n",
       " (5201533.64, 1894063.8714285714)]"
      ]
     },
     "execution_count": 14,
     "metadata": {},
     "output_type": "execute_result"
    }
   ],
   "source": [
    "nodes_odd_degree = [v for v,d in g.degree() if d % 2 == 1]\n",
    "# preview\n",
    "nodes_odd_degree[:3]"
   ]
  },
  {
   "cell_type": "code",
   "execution_count": 15,
   "metadata": {},
   "outputs": [
    {
     "name": "stdout",
     "output_type": "stream",
     "text": [
      "Number of nodes of odd degree: 16\n",
      "Total number of nodes: 364\n"
     ]
    }
   ],
   "source": [
    "print(\"Number of nodes of odd degree: {}\".format(len(nodes_odd_degree)))\n",
    "print(\"Total number of nodes: {}\".format(len(g.nodes())))"
   ]
  },
  {
   "cell_type": "markdown",
   "metadata": {},
   "source": [
    "## Step 2: Find mininum distance pairs\n",
    "The heart of the problem of routing every single edge.\n",
    "\n",
    "1. Compute all possible pairs of odd degree nodes.\n",
    "2. Computer the shortest path between each node pair calculated in 1.\n",
    "3. Create a complete graph connecting every node pair in 1 with shortest path distance attributes calculated in 2.\n",
    "4. Compute a minimum weight matching of the graph calculated in 3. This means finding the shortest possible distance while doubling back on existing roads.\n",
    "5. Augment the original graph with the shortest path between the node pairs calculated in 4.\n",
    "\n",
    "### Step 2.1: Compute the node pairs\n",
    "Compute all possible pairs of nodes of odd degree. The graph is undirected, so the order doesn't matter (i.e. `(a,b) == (b,a)`)."
   ]
  },
  {
   "cell_type": "code",
   "execution_count": 16,
   "metadata": {},
   "outputs": [
    {
     "data": {
      "text/plain": [
       "[((5200475.762857143, 1894320.582857143),\n",
       "  (5201460.208571428, 1894117.6285714286)),\n",
       " ((5200475.762857143, 1894320.582857143), (5201533.64, 1894063.8714285714)),\n",
       " ((5200475.762857143, 1894320.582857143),\n",
       "  (5201800.202857142, 1895702.8257142857))]"
      ]
     },
     "execution_count": 16,
     "metadata": {},
     "output_type": "execute_result"
    }
   ],
   "source": [
    "odd_node_pairs = list(itertools.combinations(nodes_odd_degree, 2))\n",
    "odd_node_pairs[:3]"
   ]
  },
  {
   "cell_type": "code",
   "execution_count": 17,
   "metadata": {},
   "outputs": [
    {
     "name": "stdout",
     "output_type": "stream",
     "text": [
      "Number of odd node pairs: 120\n"
     ]
    }
   ],
   "source": [
    "print(\"Number of odd node pairs: {}\".format(len(odd_node_pairs)))"
   ]
  },
  {
   "cell_type": "markdown",
   "metadata": {},
   "source": [
    "The time required to solve the CPP grows exponentially with the number of pairs here. For example, 3,600 odd node pairs means trying to optimize ~6.5 million pairs.\n",
    "\n",
    "This can be validated with the following check:\n",
    "```\n",
    "# pairs = n choose r = n! / r!(n - r)!\n",
    "```\n",
    "\n",
    "If `nodes_odd_degree` == 36, then you have `36! / 2!(36 - 2)! = 630` pairs, which should be fast.\n",
    "\n",
    "### Step 2.2: Compute shortest paths between node pairs\n",
    "`networkx` has an implementation of Dijkstra's algorithm to compute the shortest path between two nodes. This function is applied to every pair in `odd_node_pairs`."
   ]
  },
  {
   "cell_type": "code",
   "execution_count": 18,
   "metadata": {},
   "outputs": [],
   "source": [
    "def get_shortest_paths_distances(graph, pairs, edge_weight_name):\n",
    "    \"\"\"Compute the shortest distance between each pair of nodes in a graph.\n",
    "    \n",
    "    Returns a dictionary keyed on node pairs (tuples).\n",
    "    \"\"\"\n",
    "    distances = {}\n",
    "    for pair in pairs:\n",
    "        distances[pair] = nx.dijkstra_path_length(graph, pair[0], pair[1], weight=edge_weight_name)\n",
    "    return distances"
   ]
  },
  {
   "cell_type": "code",
   "execution_count": 19,
   "metadata": {},
   "outputs": [
    {
     "data": {
      "text/plain": [
       "{((5200475.762857143, 1894320.582857143),\n",
       "  (5201460.208571428, 1894117.6285714286)): 2436.398496093303,\n",
       " ((5200475.762857143, 1894320.582857143),\n",
       "  (5201533.64, 1894063.8714285714)): 2475.833462514013,\n",
       " ((5200475.762857143, 1894320.582857143),\n",
       "  (5201800.202857142, 1895702.8257142857)): 2586.238245242038}"
      ]
     },
     "execution_count": 19,
     "metadata": {},
     "output_type": "execute_result"
    }
   ],
   "source": [
    "odd_node_pairs_shortest_paths = get_shortest_paths_distances(g, odd_node_pairs, weight_field_name)\n",
    "# preview is a little funny because you can't slice a dict\n",
    "dict(list(odd_node_pairs_shortest_paths.items())[:3])"
   ]
  },
  {
   "cell_type": "markdown",
   "metadata": {},
   "source": [
    "### Step 2.3: Create the complete graph\n",
    "A complete graph is a graph where every node is connected to every other node by a unique edge. For an in-depth explanation, see https://en.wikipedia.org/wiki/Graph_theory.\n",
    "\n",
    "`create_complete_graph` is defined to calculate the complete graph based on distances calculated in 2.2. The `flip_weights` parameter is used to transform the `distance` to the `weight` attribute where smaller numbers reflect large distances and high numbers reflect short distances. This is necessary for step 2.4 where minimum weight matchines is calculated on the complete graph.\n",
    "\n",
    "`networkx` only implements a `max_weight_matching` function which maximizes, rather than minimizes edge weight. Negating the `distance` attribute gives `weight` then, to ensure order and scale by distance are preserved, but reversed."
   ]
  },
  {
   "cell_type": "code",
   "execution_count": 20,
   "metadata": {},
   "outputs": [],
   "source": [
    "def create_complete_graph(pair_weights, flip_weights=True):\n",
    "    g = nx.Graph()\n",
    "    for k, v in pair_weights.items():\n",
    "        wt_i = - v if flip_weights else v\n",
    "        g.add_edge(k[0], k[1], **{'distance': v, 'weight': wt_i})\n",
    "    return g"
   ]
  },
  {
   "cell_type": "code",
   "execution_count": 21,
   "metadata": {},
   "outputs": [
    {
     "name": "stdout",
     "output_type": "stream",
     "text": [
      "Number of nodes: 16\n",
      "Number of edges: 120\n"
     ]
    }
   ],
   "source": [
    "g_odd_complete = create_complete_graph(odd_node_pairs_shortest_paths)\n",
    "print(\"Number of nodes: {}\".format(len(g_odd_complete.nodes())))\n",
    "print(\"Number of edges: {}\".format(len(g_odd_complete.edges())))"
   ]
  },
  {
   "cell_type": "code",
   "execution_count": 22,
   "metadata": {},
   "outputs": [
    {
     "data": {
      "image/png": "[encoded data removed]",
      "text/plain": [
       "<Figure size 576x432 with 1 Axes>"
      ]
     },
     "metadata": {
      "needs_background": "light"
     },
     "output_type": "display_data"
    }
   ],
   "source": [
    "# Define node positions data structure (dict) for plotting\n",
    "node_positions = {node[0]: (node[0][0], -node[0][1]) for node in g.nodes(data=True)}\n",
    "\n",
    "# visualize the fully connected graph\n",
    "plt.figure(figsize=(8,6))\n",
    "pos_random = nx.random_layout(g_odd_complete)\n",
    "nx.draw_networkx_nodes(g_odd_complete, node_positions, node_size=20, node_color=\"red\")\n",
    "nx.draw_networkx_edges(g_odd_complete, node_positions, alpha=0.1)\n",
    "#nx.draw(g_odd_complete)\n",
    "plt.axis('off')\n",
    "plt.title('Complete Graph of Odd-degree Nodes')\n",
    "plt.show()"
   ]
  },
  {
   "cell_type": "markdown",
   "metadata": {},
   "source": [
    "### Step 2.4: Compute minimum weight matching\n",
    "This is the most complex step in the CPP, and thus requires the most processing time. We need to find the odd degree pairs whose combined sum (weight/distance) is as small as possible. `networkx` has an algorithm for this, appropriately called Max Weight Matching. Thankfully, this can be solved in polynomial time, and the `networkx` implementation will solve this in O(n<sup>3</sup>) time."
   ]
  },
  {
   "cell_type": "code",
   "execution_count": 23,
   "metadata": {},
   "outputs": [],
   "source": [
    "# uses the default weight attribute\n",
    "odd_matching_dupes = nx.algorithms.max_weight_matching(g_odd_complete, True)"
   ]
  },
  {
   "cell_type": "code",
   "execution_count": 24,
   "metadata": {},
   "outputs": [
    {
     "name": "stdout",
     "output_type": "stream",
     "text": [
      "Number of edges in matching: 8\n"
     ]
    },
    {
     "data": {
      "text/plain": [
       "{((5196455.668571428, 1905166.8657142858),\n",
       "  (5195709.571428571, 1902051.657142857)),\n",
       " ((5200475.762857143, 1894320.582857143),\n",
       "  (5201580.937142857, 1895729.0685714285)),\n",
       " ((5200968.837142857, 1894203.44), (5201277.908571429, 1894159.5057142857)),\n",
       " ((5201460.208571428, 1894117.6285714286), (5201347.774285714, 1894143.7)),\n",
       " ((5201533.64, 1894063.8714285714), (5202221.774285714, 1894682.9285714286)),\n",
       " ((5201800.202857142, 1895702.8257142857),\n",
       "  (5202429.2114285715, 1895552.9142857143)),\n",
       " ((5211169.282857142, 1897585.6942857143),\n",
       "  (5216812.348571429, 1900344.1542857143)),\n",
       " ((5211463.994285714, 1901558.0), (5211123.494285714, 1901670.4571428571))}"
      ]
     },
     "execution_count": 24,
     "metadata": {},
     "output_type": "execute_result"
    }
   ],
   "source": [
    "# Each edge-pair occurs twice, so this is double the actual edge count we're interested in\n",
    "print('Number of edges in matching: {}'.format(len(odd_matching_dupes)))\n",
    "\n",
    "# preview\n",
    "odd_matching_dupes"
   ]
  },
  {
   "cell_type": "code",
   "execution_count": 25,
   "metadata": {},
   "outputs": [],
   "source": [
    "# Convert the dictionary to a list of tuples and dedupe since this is undirected\n",
    "odd_matching = list(pd.unique([tuple(sorted([k,v])) for k, v in odd_matching_dupes]))\n",
    "# original throws an error about .items() not existing\n",
    "#odd_matching = list(pd.unique([tuple(sorted([k,v])) for k, v in odd_matching_dupes.items()]))"
   ]
  },
  {
   "cell_type": "code",
   "execution_count": 26,
   "metadata": {},
   "outputs": [
    {
     "name": "stdout",
     "output_type": "stream",
     "text": [
      "Number of edges in matching (deduped): 8\n"
     ]
    },
    {
     "data": {
      "text/plain": [
       "[((5201800.202857142, 1895702.8257142857),\n",
       "  (5202429.2114285715, 1895552.9142857143)),\n",
       " ((5200968.837142857, 1894203.44), (5201277.908571429, 1894159.5057142857)),\n",
       " ((5201347.774285714, 1894143.7), (5201460.208571428, 1894117.6285714286)),\n",
       " ((5211169.282857142, 1897585.6942857143),\n",
       "  (5216812.348571429, 1900344.1542857143)),\n",
       " ((5201533.64, 1894063.8714285714), (5202221.774285714, 1894682.9285714286)),\n",
       " ((5195709.571428571, 1902051.657142857),\n",
       "  (5196455.668571428, 1905166.8657142858)),\n",
       " ((5200475.762857143, 1894320.582857143),\n",
       "  (5201580.937142857, 1895729.0685714285)),\n",
       " ((5211123.494285714, 1901670.4571428571), (5211463.994285714, 1901558.0))]"
      ]
     },
     "execution_count": 26,
     "metadata": {},
     "output_type": "execute_result"
    }
   ],
   "source": [
    "# Count\n",
    "print('Number of edges in matching (deduped): {}'.format(len(odd_matching)))\n",
    "\n",
    "# preview\n",
    "odd_matching"
   ]
  },
  {
   "cell_type": "markdown",
   "metadata": {},
   "source": [
    "Visualization of the pairs on the complete graph plotted earlier. Node positions reflect the true graph, but edge distances shows are euclidian. Actual shortest route could be considerably longer."
   ]
  },
  {
   "cell_type": "code",
   "execution_count": 27,
   "metadata": {},
   "outputs": [
    {
     "data": {
      "image/png": "[encoded data removed]",
      "text/plain": [
       "<Figure size 576x432 with 1 Axes>"
      ]
     },
     "metadata": {},
     "output_type": "display_data"
    }
   ],
   "source": [
    "plt.figure(figsize=(8,6))\n",
    "\n",
    "# Plot the completed graph of odd-degree nodes\n",
    "nx.draw(g_odd_complete, pos=node_positions, node_size=20, alpha=0.05)\n",
    "\n",
    "# Create a new graph to overlay on g_odd_complete with just the edges from the min weight matching\n",
    "g_odd_complete_min_edges = nx.Graph(odd_matching)\n",
    "nx.draw(g_odd_complete_min_edges, pos=node_positions, node_size=20, edge_color='blue', node_color='red')\n",
    "\n",
    "plt.title('Min Weight Matching on Complete Graph')\n",
    "plt.show()"
   ]
  },
  {
   "cell_type": "markdown",
   "metadata": {},
   "source": [
    "Now plot it on the original node map."
   ]
  },
  {
   "cell_type": "code",
   "execution_count": 28,
   "metadata": {},
   "outputs": [
    {
     "data": {
      "image/png": "[encoded data removed]",
      "text/plain": [
       "<Figure size 576x432 with 1 Axes>"
      ]
     },
     "metadata": {},
     "output_type": "display_data"
    }
   ],
   "source": [
    "plt.figure(figsize=(8, 6))\n",
    "\n",
    "# Plot the original trail map graph\n",
    "nx.draw(g, pos=node_positions, node_size=20, alpha=0.1, node_color='black')\n",
    "\n",
    "# Plot graph to overlay with just the edges from the min weight matching\n",
    "nx.draw(g_odd_complete_min_edges, pos=node_positions, node_size=20, alpha=1, node_color='red', edge_color='blue')\n",
    "\n",
    "plt.title('Min Weight Matching on Orginal Graph')\n",
    "plt.show()"
   ]
  },
  {
   "cell_type": "markdown",
   "metadata": {},
   "source": [
    "### Step 2.5: Augment the original graph\n",
    "Augment the original graph with the edges from the matching. The function below augments the graph, and notes the new edges came from the augmented graph. This fact is required when trying to create the Eulerian circuit."
   ]
  },
  {
   "cell_type": "code",
   "execution_count": 29,
   "metadata": {},
   "outputs": [],
   "source": [
    "def add_augmenting_path_to_graph(graph, min_weight_pairs):\n",
    "    \"\"\"Add the min weight matching edges to the original graph.\n",
    "    Parameters:\n",
    "        graph: NetworkX graph\n",
    "        min_weight_pairs: list[tuples] of node pairs from min weight matching\n",
    "    Returns:\n",
    "        augmented NetworkX graph\n",
    "    \"\"\"\n",
    "    \n",
    "    # use a MultiGraph to allow for parallel edges\n",
    "    graph_aug = nx.MultiGraph(graph.copy())\n",
    "    for pair in min_weight_pairs:\n",
    "        graph_aug.add_edge(pair[0],\n",
    "                          pair[1],\n",
    "                          **{'distance': nx.dijkstra_path_length(graph, pair[0], pair[1]),\n",
    "                             'trail': 'augmented'}\n",
    "                          )\n",
    "    return graph_aug"
   ]
  },
  {
   "cell_type": "code",
   "execution_count": 30,
   "metadata": {},
   "outputs": [],
   "source": [
    "g_aug = add_augmenting_path_to_graph(g, odd_matching)"
   ]
  },
  {
   "cell_type": "code",
   "execution_count": 31,
   "metadata": {},
   "outputs": [
    {
     "name": "stdout",
     "output_type": "stream",
     "text": [
      "Number of edges in original graph: 862\n",
      "Number of edges in augmented graph: 870\n"
     ]
    }
   ],
   "source": [
    "# Compare edge counts\n",
    "print('Number of edges in original graph: {}'.format(len(g.edges())))\n",
    "print('Number of edges in augmented graph: {}'.format(len(g_aug.edges())))"
   ]
  },
  {
   "cell_type": "markdown",
   "metadata": {},
   "source": [
    "Every node should now have an even degree"
   ]
  },
  {
   "cell_type": "code",
   "execution_count": 32,
   "metadata": {},
   "outputs": [
    {
     "data": {
      "text/plain": [
       "4     122\n",
       "6     115\n",
       "2      76\n",
       "8      50\n",
       "10      1\n",
       "dtype: int64"
      ]
     },
     "execution_count": 32,
     "metadata": {},
     "output_type": "execute_result"
    }
   ],
   "source": [
    "pd.value_counts([e[1] for e in g_aug.degree()])"
   ]
  },
  {
   "cell_type": "markdown",
   "metadata": {},
   "source": [
    "### Step 3: Compute Eulerian circuit\n",
    "Given that the graph now has even degree, finding the circuit is relatively easy. There are many circuits that could be constructed, and the NetworkX `eulerian_circuit` function will get us 90% of the way there, with a few limitations.\n",
    "\n",
    "#### Limitations that are dealt with\n",
    "\n",
    "1. The augmented graph could (and probably will) contain edges that didn't exist on the original graph. To get the circuit on proper streets, the augmented edges need to be broken down into the shortest path through edges that actually exist.\n",
    "2. 'eulerian_circuit' only returns the order in which we hit each node. This is resolved because we need to track which edges have been walked already when multiple edges exist between two nodes.\n",
    "\n",
    "#### Limitations that are *not* dealt with\n",
    "An assumption is made that the start and end points are the same node. It isn't necessarily the case that we always want this to happen, and in theory a Eulerian path could exist if there are exactly two nodes of odd degree. Knowing when to have a different start and end node could be quite complex, and isn't dealt with.\n",
    "\n",
    "#### Start Points\n",
    "The start point for every circuit is always assumed to be the north-east corner. This isn't necessarily always best, and other alternatives should be explored at some point."
   ]
  },
  {
   "cell_type": "code",
   "execution_count": 33,
   "metadata": {},
   "outputs": [
    {
     "data": {
      "text/plain": [
       "(5216812.348571429, 1900344.1542857143)"
      ]
     },
     "execution_count": 33,
     "metadata": {},
     "output_type": "execute_result"
    }
   ],
   "source": [
    "# node cordinates are projected, so north-east is always the result of max()\n",
    "start_point = max(g_aug.nodes())\n",
    "start_point"
   ]
  },
  {
   "cell_type": "markdown",
   "metadata": {},
   "source": [
    "#### Naive circuit\n",
    "Calculate a circuit that will almost certainly include augmented edges"
   ]
  },
  {
   "cell_type": "code",
   "execution_count": 34,
   "metadata": {},
   "outputs": [],
   "source": [
    "naive_euler_circuit = list(nx.eulerian_circuit(g_aug, source=start_point))"
   ]
  },
  {
   "cell_type": "code",
   "execution_count": 35,
   "metadata": {},
   "outputs": [
    {
     "name": "stdout",
     "output_type": "stream",
     "text": [
      "Length of naive eulerian circuit: 870\n"
     ]
    },
    {
     "data": {
      "text/plain": [
       "[((5216812.348571429, 1900344.1542857143),\n",
       "  (5216388.6342857145, 1900427.602857143)),\n",
       " ((5216388.6342857145, 1900427.602857143),\n",
       "  (5215218.874285715, 1900697.8057142857)),\n",
       " ((5215218.874285715, 1900697.8057142857), (5214435.457142857, 1900883.8))]"
      ]
     },
     "execution_count": 35,
     "metadata": {},
     "output_type": "execute_result"
    }
   ],
   "source": [
    "# The length of the naive circuit matches the number of edges in the augmented graph\n",
    "print('Length of naive eulerian circuit: {}'.format(len(naive_euler_circuit)))\n",
    "\n",
    "# preview\n",
    "naive_euler_circuit[:3]"
   ]
  },
  {
   "cell_type": "markdown",
   "metadata": {},
   "source": [
    "#### Corrected Circuit\n",
    "Define a function that utilizes the original graph to tell which roads to use to get from node A to node B. This transforms the naive circuit to a Eulerian circuit using only edges that exist in the original graph."
   ]
  },
  {
   "cell_type": "code",
   "execution_count": 36,
   "metadata": {},
   "outputs": [],
   "source": [
    "# loop through each edge in the naive circuit, replacing any augmented edge with the shortest path \n",
    "# through the original graph\n",
    "def create_eulerian_circuit(graph_augmented, graph_original, start_node=None):\n",
    "    \"\"\"Create the eulerian path using only edges from the original graph.\"\"\"\n",
    "    euler_circuit = []\n",
    "    naive_circuit = list(nx.eulerian_circuit(graph_augmented, source=start_node))\n",
    "    \n",
    "    for edge in naive_circuit:\n",
    "        # get the original edge data\n",
    "        edge_data = graph_augmented.get_edge_data(edge[0], edge[1])\n",
    "        \n",
    "        # this is not an augmented path, just append it to the circuit\n",
    "        if edge_data[0].get('trail') != 'augmented':\n",
    "            edge_att = graph_original[edge[0]][edge[1]]\n",
    "            # appends a tuple to the final circuit\n",
    "            euler_circuit.append((edge[0], edge[1], edge_att))\n",
    "            continue\n",
    "        \n",
    "#         if edge_data[0]['trail'] != 'augmented':\n",
    "#             # edge exists in original graph, get the original attributes and add to the final circuit\n",
    "#             edge_att = graph_original[edge[0]][edge[1]]\n",
    "#             # appends a tuple to the final circuit\n",
    "#             euler_circuit.append((edge[0], edge[1], edge_att))\n",
    "#         else:\n",
    "        # edge is augmented, find the shortest 'real' route\n",
    "        aug_path = nx.shortest_path(graph_original, edge[0], edge[1], weight=weight_field_name)\n",
    "        aug_path_pairs = list(zip(aug_path[:-1], aug_path[1:]))\n",
    "\n",
    "        print('Filling in edges for augmented edge: {}'.format(edge))\n",
    "#         print('Augmenting path: {}'.format(' => '.join(aug_path)))\n",
    "        print('Augmenting path pairs: {}\\n'.format(aug_path_pairs))\n",
    "\n",
    "        # add the edges from the shortest path\n",
    "        for edge_aug in aug_path_pairs:\n",
    "            edge_aug_att = graph_original[edge_aug[0]][edge_aug[1]]\n",
    "            euler_circuit.append((edge_aug[0], edge_aug[1], edge_aug_att))\n",
    "        \n",
    "    return euler_circuit"
   ]
  },
  {
   "cell_type": "code",
   "execution_count": 37,
   "metadata": {},
   "outputs": [
    {
     "name": "stdout",
     "output_type": "stream",
     "text": [
      "Filling in edges for augmented edge: ((5211463.994285714, 1901558.0), (5211123.494285714, 1901670.4571428571))\n",
      "Augmenting path pairs: [((5211463.994285714, 1901558.0), (5211329.488571429, 1901489.36)), ((5211329.488571429, 1901489.36), (5210322.717142858, 1900975.5857142857)), ((5210322.717142858, 1900975.5857142857), (5210331.437142857, 1901024.1057142857)), ((5210331.437142857, 1901024.1057142857), (5210339.697142857, 1901070.0771428572)), ((5210339.697142857, 1901070.0771428572), (5210532.122857143, 1901807.78)), ((5210532.122857143, 1901807.78), (5211123.494285714, 1901670.4571428571))]\n",
      "\n",
      "Filling in edges for augmented edge: ((5196455.668571428, 1905166.8657142858), (5195709.571428571, 1902051.657142857))\n",
      "Augmenting path pairs: [((5196455.668571428, 1905166.8657142858), (5198022.78, 1904791.3371428573)), ((5198022.78, 1904791.3371428573), (5197275.308571428, 1901678.4257142858)), ((5197275.308571428, 1901678.4257142858), (5195709.571428571, 1902051.657142857))]\n",
      "\n",
      "Filling in edges for augmented edge: ((5201347.774285714, 1894143.7), (5201460.208571428, 1894117.6285714286))\n",
      "Augmenting path pairs: [((5201347.774285714, 1894143.7), (5201392.76, 1894133.5228571428)), ((5201392.76, 1894133.5228571428), (5201460.208571428, 1894117.6285714286))]\n",
      "\n",
      "Filling in edges for augmented edge: ((5202221.774285714, 1894682.9285714286), (5201533.64, 1894063.8714285714))\n",
      "Augmenting path pairs: [((5202221.774285714, 1894682.9285714286), (5202188.834285714, 1894543.5885714286)), ((5202188.834285714, 1894543.5885714286), (5202097.728571429, 1894565.4571428571)), ((5202097.728571429, 1894565.4571428571), (5202009.897142857, 1894586.877142857)), ((5202009.897142857, 1894586.877142857), (5201928.228571429, 1894627.4685714287)), ((5201928.228571429, 1894627.4685714287), (5201885.645714286, 1894566.4685714287)), ((5201885.645714286, 1894566.4685714287), (5201770.6342857145, 1894513.1885714286)), ((5201770.6342857145, 1894513.1885714286), (5201681.02, 1894498.9828571428)), ((5201681.02, 1894498.9828571428), (5201677.154285714, 1894323.0514285713)), ((5201677.154285714, 1894323.0514285713), (5201581.462857143, 1894306.4628571428)), ((5201581.462857143, 1894306.4628571428), (5201625.1342857145, 1894177.7228571428)), ((5201625.1342857145, 1894177.7228571428), (5201615.122857143, 1894173.2828571429)), ((5201615.122857143, 1894173.2828571429), (5201533.64, 1894063.8714285714))]\n",
      "\n",
      "Filling in edges for augmented edge: ((5200968.837142857, 1894203.44), (5201277.908571429, 1894159.5057142857))\n",
      "Augmenting path pairs: [((5200968.837142857, 1894203.44), (5201136.8257142855, 1894172.122857143)), ((5201136.8257142855, 1894172.122857143), (5201224.737142857, 1894171.5371428572)), ((5201224.737142857, 1894171.5371428572), (5201277.908571429, 1894159.5057142857))]\n",
      "\n",
      "Filling in edges for augmented edge: ((5201800.202857142, 1895702.8257142857), (5202429.2114285715, 1895552.9142857143))\n",
      "Augmenting path pairs: [((5201800.202857142, 1895702.8257142857), (5202000.165714286, 1895655.2171428571)), ((5202000.165714286, 1895655.2171428571), (5202429.2114285715, 1895552.9142857143))]\n",
      "\n",
      "Filling in edges for augmented edge: ((5201580.937142857, 1895729.0685714285), (5200475.762857143, 1894320.582857143))\n",
      "Augmenting path pairs: [((5201580.937142857, 1895729.0685714285), (5201592.36, 1895709.2257142856)), ((5201592.36, 1895709.2257142856), (5201540.84, 1895721.52)), ((5201540.84, 1895721.52), (5201264.885714286, 1895789.6914285715)), ((5201264.885714286, 1895789.6914285715), (5201249.034285715, 1895793.6085714286)), ((5201249.034285715, 1895793.6085714286), (5201085.754285715, 1895833.9457142858)), ((5201085.754285715, 1895833.9457142858), (5200852.208571428, 1895891.642857143)), ((5200852.208571428, 1895891.642857143), (5200663.742857143, 1895105.082857143)), ((5200663.742857143, 1895105.082857143), (5200644.831428572, 1895026.16)), ((5200644.831428572, 1895026.16), (5200475.762857143, 1894320.582857143))]\n",
      "\n",
      "Filling in edges for augmented edge: ((5211169.282857142, 1897585.6942857143), (5216812.348571429, 1900344.1542857143))\n",
      "Augmenting path pairs: [((5211169.282857142, 1897585.6942857143), (5211218.1742857145, 1897747.2028571428)), ((5211218.1742857145, 1897747.2028571428), (5211235.834285714, 1897821.582857143)), ((5211235.834285714, 1897821.582857143), (5211288.497142857, 1898043.3485714286)), ((5211288.497142857, 1898043.3485714286), (5211355.64, 1898326.0914285714)), ((5211355.64, 1898326.0914285714), (5211366.791428572, 1898374.56)), ((5211366.791428572, 1898374.56), (5211539.505714286, 1899107.96)), ((5211539.505714286, 1899107.96), (5211714.245714285, 1899849.9628571428)), ((5211714.245714285, 1899849.9628571428), (5211876.488571429, 1900559.1085714286)), ((5211876.488571429, 1900559.1085714286), (5211845.457142857, 1900875.5314285713)), ((5211845.457142857, 1900875.5314285713), (5211826.234285714, 1900947.0142857144)), ((5211826.234285714, 1900947.0142857144), (5211993.154285714, 1901018.6942857143)), ((5211993.154285714, 1901018.6942857143), (5212687.051428571, 1901262.3914285714)), ((5212687.051428571, 1901262.3914285714), (5212842.58, 1901255.5171428572)), ((5212842.58, 1901255.5171428572), (5213610.237142857, 1901078.142857143)), ((5213610.237142857, 1901078.142857143), (5213654.722857143, 1901067.7)), ((5213654.722857143, 1901067.7), (5213827.054285714, 1901027.0028571428)), ((5213827.054285714, 1901027.0028571428), (5213853.171428571, 1901021.4428571428)), ((5213853.171428571, 1901021.4428571428), (5214154.005714286, 1900950.9085714286)), ((5214154.005714286, 1900950.9085714286), (5214435.457142857, 1900883.8)), ((5214435.457142857, 1900883.8), (5215218.874285715, 1900697.8057142857)), ((5215218.874285715, 1900697.8057142857), (5216388.6342857145, 1900427.602857143)), ((5216388.6342857145, 1900427.602857143), (5216812.348571429, 1900344.1542857143))]\n",
      "\n"
     ]
    }
   ],
   "source": [
    "# prints a lot to note which nonexistent edges are being replaced.\n",
    "# Unclear how much value this has, and could be silenced.\n",
    "euler_circuit = create_eulerian_circuit(g_aug, g, start_point)"
   ]
  },
  {
   "cell_type": "code",
   "execution_count": 38,
   "metadata": {},
   "outputs": [
    {
     "name": "stdout",
     "output_type": "stream",
     "text": [
      "Length of Eulerian circuit: 921\n",
      "0 ((5216812.348571429, 1900344.1542857143), (5216388.6342857145, 1900427.602857143), AtlasView({0: {'NGD_UID': 4039008, 'SHAPE_Length': 431.8535168226333, 'geometry': <shapely.geometry.multilinestring.MultiLineString object at 0x114842390>, 'BF_UID': 11443748, 'BB_UID': 1529159, 'ARC_SIDE': 'R', 'LB_UID': 1248654, 'LFS_UID': '4772801010222', 'LU_UID': 54118, 'S_FLAG': nan, 'start_node_id': 28379, 'end_node_id': 28380}}))\n",
      "1 ((5216388.6342857145, 1900427.602857143), (5215218.874285715, 1900697.8057142857), AtlasView({0: {'NGD_UID': 4039007, 'SHAPE_Length': 1200.739279703932, 'geometry': <shapely.geometry.multilinestring.MultiLineString object at 0x113f97f28>, 'BF_UID': 11601974, 'BB_UID': 1529159, 'ARC_SIDE': 'R', 'LB_UID': 1248654, 'LFS_UID': '4772801010222', 'LU_UID': 54118, 'S_FLAG': nan, 'start_node_id': 28349, 'end_node_id': 28350}}))\n",
      "2 ((5215218.874285715, 1900697.8057142857), (5214435.457142857, 1900883.8), AtlasView({0: {'NGD_UID': 2081383, 'SHAPE_Length': 805.1933777359129, 'geometry': <shapely.geometry.multilinestring.MultiLineString object at 0x114164668>, 'BF_UID': 11596276, 'BB_UID': 1529159, 'ARC_SIDE': 'R', 'LB_UID': 1248654, 'LFS_UID': '4772801010222', 'LU_UID': 54118, 'S_FLAG': nan, 'start_node_id': 28355, 'end_node_id': 28356}}))\n"
     ]
    }
   ],
   "source": [
    "# Length of the full circuit is longer than the naive circuit\n",
    "print('Length of Eulerian circuit: {}'.format(len(euler_circuit)))\n",
    "\n",
    "# Preview some of the final solution\n",
    "for i, edge in enumerate(euler_circuit[:3]):\n",
    "    print(i, edge)"
   ]
  },
  {
   "cell_type": "markdown",
   "metadata": {},
   "source": [
    "### Stats\n",
    "Some statistics on the circuit to assess how reasonable it is."
   ]
  },
  {
   "cell_type": "code",
   "execution_count": 39,
   "metadata": {},
   "outputs": [
    {
     "name": "stdout",
     "output_type": "stream",
     "text": [
      "Distance of circuit: 439661.55\n",
      "Distance on original trail map: 417035.87\n",
      "Distance retracing edges: 22625.69\n",
      "Percent of mileage retraced: 5.43%\n",
      "\n",
      "Number of edges in circuit: 921\n",
      "Number of edges in original graph: 862\n",
      "Number of nodes in original graph: 364\n",
      "\n",
      "Number of edges traversed more than once: 59\n",
      "\n",
      "Number of times visiting each node:\n",
      "n_visits  n_nodes\n",
      "       1       63\n",
      "       2      116\n",
      "       3      122\n",
      "       4       56\n",
      "       5        6\n",
      "       6        1\n",
      "\n",
      "Number of times visiting each edge:\n",
      "n_visits  n_edges\n",
      "       2      362\n",
      "       1       88\n",
      "       3       35\n",
      "       4        1\n"
     ]
    }
   ],
   "source": [
    "# Computing some stats\n",
    "#total_distance_of_circuit = sum([edge[2]['distance'] for edge in euler_circuit])\n",
    "total_distance_of_circuit = sum([edge[2][0][weight_field_name] for edge in euler_circuit])\n",
    "#total_distance_on_orig_trail_map = sum(nx.get_edge_attributes(g, 'distance').values())\n",
    "total_distance_on_orig_trail_map = sum(nx.get_edge_attributes(g, weight_field_name).values())\n",
    "_vcn = pd.value_counts(pd.value_counts([(e[0]) for e in euler_circuit]), sort=False)\n",
    "node_visits = pd.DataFrame({'n_visits': _vcn.index, 'n_nodes': _vcn.values})\n",
    "_vce = pd.value_counts(pd.value_counts([sorted(e)[0] + sorted(e)[1] for e in nx.MultiDiGraph(euler_circuit).edges()]))\n",
    "edge_visits = pd.DataFrame({'n_visits': _vce.index, 'n_edges': _vce.values})\n",
    "\n",
    "# Printing stats\n",
    "print('Distance of circuit: {0:.2f}'.format(total_distance_of_circuit))\n",
    "print('Distance on original trail map: {0:.2f}'.format(total_distance_on_orig_trail_map))\n",
    "print('Distance retracing edges: {0:.2f}'.format(total_distance_of_circuit-total_distance_on_orig_trail_map))\n",
    "print('Percent of mileage retraced: {0:.2f}%\\n'.format((1-total_distance_of_circuit/total_distance_on_orig_trail_map)*-100))\n",
    "\n",
    "print('Number of edges in circuit: {}'.format(len(euler_circuit)))\n",
    "print('Number of edges in original graph: {}'.format(len(g.edges())))\n",
    "print('Number of nodes in original graph: {}\\n'.format(len(g.nodes())))\n",
    "\n",
    "print('Number of edges traversed more than once: {}\\n'.format(len(euler_circuit)-len(g.edges())))  \n",
    "\n",
    "print('Number of times visiting each node:')\n",
    "print(node_visits.to_string(index=False))\n",
    "\n",
    "print('\\nNumber of times visiting each edge:')\n",
    "print(edge_visits.to_string(index=False))"
   ]
  },
  {
   "cell_type": "markdown",
   "metadata": {},
   "source": [
    "# Visualize the solution\n",
    "The first step is to convert the list of edges into an edge list with plot friendly attributes."
   ]
  },
  {
   "cell_type": "code",
   "execution_count": 40,
   "metadata": {},
   "outputs": [],
   "source": [
    "def create_cpp_edgelist(euler_circuit):\n",
    "    \"\"\"\n",
    "    Create the edgelist without parallel edge for the visualization\n",
    "    Combine duplicate edges and keep track of their sequence and # of walks\n",
    "    Parameters:\n",
    "        euler_circuit: list[tuple] from create_eulerian_circuit\n",
    "    \"\"\"\n",
    "    cpp_edgelist = {}\n",
    "\n",
    "    for i, e in enumerate(euler_circuit):\n",
    "        edge = frozenset([e[0], e[1]])\n",
    "        \n",
    "        # each edge can have multiple paths (L/R), so number accordingly\n",
    "        if edge not in cpp_edgelist:\n",
    "            cpp_edgelist[edge] = e\n",
    "            # label the right edge with the sequence number\n",
    "            for j, bf in enumerate(cpp_edgelist[edge][2]):\n",
    "                if cpp_edgelist[edge][2][j]['ARC_SIDE'] == 'R':\n",
    "                    cpp_edgelist[edge][2][j]['sequence'] = i\n",
    "                    cpp_edgelist[edge][2][j]['visits'] = 1\n",
    "        else:\n",
    "            # label the other edge with a sequence number\n",
    "            for j, bf in enumerate(cpp_edgelist[edge][2]):\n",
    "                if not cpp_edgelist[edge][2][j].get('sequence'):\n",
    "                    cpp_edgelist[edge][2][j]['sequence'] = i\n",
    "                    cpp_edgelist[edge][2][j]['visits'] = 1\n",
    "                    continue\n",
    "\n",
    "#         if edge in cpp_edgelist:\n",
    "#             cpp_edgelist[edge][2][0]['sequence'] += ', ' + str(i)\n",
    "#             cpp_edgelist[edge][2][0]['visits'] += 1\n",
    "\n",
    "#         else:\n",
    "#             cpp_edgelist[edge] = e\n",
    "#             cpp_edgelist[edge][2][0]['sequence'] = str(i)\n",
    "#             cpp_edgelist[edge][2][0]['visits'] = 1\n",
    "        \n",
    "    return list(cpp_edgelist.values())"
   ]
  },
  {
   "cell_type": "code",
   "execution_count": 41,
   "metadata": {},
   "outputs": [
    {
     "name": "stdout",
     "output_type": "stream",
     "text": [
      "Number of edges in CPP edge list: 486\n"
     ]
    },
    {
     "data": {
      "text/plain": [
       "[((5216812.348571429, 1900344.1542857143),\n",
       "  (5216388.6342857145, 1900427.602857143),\n",
       "  AtlasView({0: {'NGD_UID': 4039008, 'SHAPE_Length': 431.8535168226333, 'geometry': <shapely.geometry.multilinestring.MultiLineString object at 0x114842390>, 'BF_UID': 11443748, 'BB_UID': 1529159, 'ARC_SIDE': 'R', 'LB_UID': 1248654, 'LFS_UID': '4772801010222', 'LU_UID': 54118, 'S_FLAG': nan, 'start_node_id': 28379, 'end_node_id': 28380, 'sequence': 920, 'visits': 1}})),\n",
       " ((5216388.6342857145, 1900427.602857143),\n",
       "  (5215218.874285715, 1900697.8057142857),\n",
       "  AtlasView({0: {'NGD_UID': 4039007, 'SHAPE_Length': 1200.739279703932, 'geometry': <shapely.geometry.multilinestring.MultiLineString object at 0x113f97f28>, 'BF_UID': 11601974, 'BB_UID': 1529159, 'ARC_SIDE': 'R', 'LB_UID': 1248654, 'LFS_UID': '4772801010222', 'LU_UID': 54118, 'S_FLAG': nan, 'start_node_id': 28349, 'end_node_id': 28350, 'sequence': 1, 'visits': 1}})),\n",
       " ((5215218.874285715, 1900697.8057142857),\n",
       "  (5214435.457142857, 1900883.8),\n",
       "  AtlasView({0: {'NGD_UID': 2081383, 'SHAPE_Length': 805.1933777359129, 'geometry': <shapely.geometry.multilinestring.MultiLineString object at 0x114164668>, 'BF_UID': 11596276, 'BB_UID': 1529159, 'ARC_SIDE': 'R', 'LB_UID': 1248654, 'LFS_UID': '4772801010222', 'LU_UID': 54118, 'S_FLAG': nan, 'start_node_id': 28355, 'end_node_id': 28356, 'sequence': 2, 'visits': 1}}))]"
      ]
     },
     "execution_count": 41,
     "metadata": {},
     "output_type": "execute_result"
    }
   ],
   "source": [
    "# create the edge list\n",
    "cpp_edgelist = create_cpp_edgelist(euler_circuit)\n",
    "\n",
    "# this has the same number of edges as the original graph\n",
    "print('Number of edges in CPP edge list: {}'.format(len(cpp_edgelist)))\n",
    "\n",
    "# basically the same thing as the original, just with a few extra attributes\n",
    "cpp_edgelist[:3]\n"
   ]
  },
  {
   "cell_type": "code",
   "execution_count": 42,
   "metadata": {},
   "outputs": [],
   "source": [
    "\n",
    "# convert it to a graph\n",
    "g_cpp = nx.MultiGraph(cpp_edgelist)"
   ]
  },
  {
   "cell_type": "markdown",
   "metadata": {},
   "source": [
    "## Retracing steps\n",
    "Visualization of which edges are walked once (grey), and more than once (blue). This is effectively the corrected version of the naive circuit."
   ]
  },
  {
   "cell_type": "code",
   "execution_count": 43,
   "metadata": {},
   "outputs": [
    {
     "data": {
      "image/png": "[encoded data removed]",
      "text/plain": [
       "<Figure size 1008x720 with 1 Axes>"
      ]
     },
     "metadata": {
      "needs_background": "light"
     },
     "output_type": "display_data"
    }
   ],
   "source": [
    "plt.figure(figsize=(14, 10))\n",
    "\n",
    "visit_colors = {1:'lightgray', 2:'blue', 3:'red', 4:'green'}\n",
    "#edge_colors = [visit_colors[e[2][0]['visits']] for e in g_cpp.edges(data=True)]\n",
    "node_colors = ['red'  if node in nodes_odd_degree else 'lightgray' for node in g_cpp.nodes()]\n",
    "\n",
    "nx.draw_networkx(g_cpp, \n",
    "                 pos=node_positions, \n",
    "                 node_size=20, \n",
    "                 node_color=node_colors, \n",
    "#                 edge_color=edge_colors, \n",
    "                 with_labels=False)\n",
    "plt.axis('off')\n",
    "plt.show()"
   ]
  },
  {
   "cell_type": "markdown",
   "metadata": {},
   "source": [
    "## Solution sequence\n",
    "Plot of the original graph annotated with the sequence numbers in which the routes are traversed. Multiple numbers indicate a road that is doubled back on."
   ]
  },
  {
   "cell_type": "code",
   "execution_count": 44,
   "metadata": {},
   "outputs": [
    {
     "data": {
      "text/plain": [
       "[((5216812.348571429, 1900344.1542857143),\n",
       "  (5216388.6342857145, 1900427.602857143),\n",
       "  {0: {'NGD_UID': 4039008,\n",
       "    'SHAPE_Length': 431.8535168226333,\n",
       "    'geometry': <shapely.geometry.multilinestring.MultiLineString at 0x114842390>,\n",
       "    'BF_UID': 11443748,\n",
       "    'BB_UID': 1529159,\n",
       "    'ARC_SIDE': 'R',\n",
       "    'LB_UID': 1248654,\n",
       "    'LFS_UID': '4772801010222',\n",
       "    'LU_UID': 54118,\n",
       "    'S_FLAG': nan,\n",
       "    'start_node_id': 28379,\n",
       "    'end_node_id': 28380,\n",
       "    'sequence': 920,\n",
       "    'visits': 1}}),\n",
       " ((5216388.6342857145, 1900427.602857143),\n",
       "  (5215218.874285715, 1900697.8057142857),\n",
       "  {0: {'NGD_UID': 4039007,\n",
       "    'SHAPE_Length': 1200.739279703932,\n",
       "    'geometry': <shapely.geometry.multilinestring.MultiLineString at 0x113f97f28>,\n",
       "    'BF_UID': 11601974,\n",
       "    'BB_UID': 1529159,\n",
       "    'ARC_SIDE': 'R',\n",
       "    'LB_UID': 1248654,\n",
       "    'LFS_UID': '4772801010222',\n",
       "    'LU_UID': 54118,\n",
       "    'S_FLAG': nan,\n",
       "    'start_node_id': 28349,\n",
       "    'end_node_id': 28350,\n",
       "    'sequence': 1,\n",
       "    'visits': 1}}),\n",
       " ((5215218.874285715, 1900697.8057142857),\n",
       "  (5214435.457142857, 1900883.8),\n",
       "  {0: {'NGD_UID': 2081383,\n",
       "    'SHAPE_Length': 805.1933777359129,\n",
       "    'geometry': <shapely.geometry.multilinestring.MultiLineString at 0x114164668>,\n",
       "    'BF_UID': 11596276,\n",
       "    'BB_UID': 1529159,\n",
       "    'ARC_SIDE': 'R',\n",
       "    'LB_UID': 1248654,\n",
       "    'LFS_UID': '4772801010222',\n",
       "    'LU_UID': 54118,\n",
       "    'S_FLAG': nan,\n",
       "    'start_node_id': 28355,\n",
       "    'end_node_id': 28356,\n",
       "    'sequence': 2,\n",
       "    'visits': 1}})]"
      ]
     },
     "execution_count": 44,
     "metadata": {},
     "output_type": "execute_result"
    }
   ],
   "source": [
    "# preview the graph\n",
    "list(g_cpp.edges(data=True))[:3]"
   ]
  },
  {
   "cell_type": "code",
   "execution_count": 45,
   "metadata": {},
   "outputs": [
    {
     "data": {
      "image/png": "[encoded data removed]",
      "text/plain": [
       "<Figure size 1008x720 with 1 Axes>"
      ]
     },
     "metadata": {
      "needs_background": "light"
     },
     "output_type": "display_data"
    }
   ],
   "source": [
    "plt.figure(figsize=(14, 10))\n",
    "\n",
    "#edge_colors = [e[2][0]['color'] for e in g_cpp.edges(data=True)]\n",
    "visit_colors = {1:'lightgray', 2:'blue', 3:'red', 4:'green'}\n",
    "#edge_colors = [visit_colors[e[2][0]['visits']] for e in g_cpp.edges(data=True)]\n",
    "#nx.draw_networkx(g_cpp, pos=node_positions, node_size=10, node_color='black', edge_color=edge_colors, with_labels=False, alpha=0.5)\n",
    "nx.draw_networkx(g_cpp, pos=node_positions, node_size=10, node_color='black', with_labels=False, alpha=0.5)\n",
    "\n",
    "bbox = {'ec':[1,1,1,0], 'fc':[1,1,1,0]}  # hack to label edges over line (rather than breaking up line)\n",
    "edge_labels = nx.get_edge_attributes(g_cpp, 'sequence')\n",
    "nx.draw_networkx_edge_labels(g_cpp, pos=node_positions, edge_labels=edge_labels, bbox=bbox, font_size=6)\n",
    "\n",
    "plt.axis('off')\n",
    "plt.show()"
   ]
  },
  {
   "cell_type": "markdown",
   "metadata": {},
   "source": [
    "# Formatting output\n",
    "From the created edge list, create a table that has the proper columns in order.\n",
    "\n",
    "The desired output format doesn't match the edge list, which is 3D in shape, so it is first flattened and then ordered based on sequence number."
   ]
  },
  {
   "cell_type": "code",
   "execution_count": 46,
   "metadata": {},
   "outputs": [
    {
     "data": {
      "text/html": [
       "<div>\n",
       "<style scoped>\n",
       "    .dataframe tbody tr th:only-of-type {\n",
       "        vertical-align: middle;\n",
       "    }\n",
       "\n",
       "    .dataframe tbody tr th {\n",
       "        vertical-align: top;\n",
       "    }\n",
       "\n",
       "    .dataframe thead th {\n",
       "        text-align: right;\n",
       "    }\n",
       "</style>\n",
       "<table border=\"1\" class=\"dataframe\">\n",
       "  <thead>\n",
       "    <tr style=\"text-align: right;\">\n",
       "      <th></th>\n",
       "      <th>ARC_SIDE</th>\n",
       "      <th>BB_UID</th>\n",
       "      <th>BF_UID</th>\n",
       "      <th>LB_UID</th>\n",
       "      <th>LFS_UID</th>\n",
       "      <th>LU_UID</th>\n",
       "      <th>NGD_UID</th>\n",
       "      <th>SHAPE_Length</th>\n",
       "      <th>S_FLAG</th>\n",
       "      <th>end_node_id</th>\n",
       "      <th>geometry</th>\n",
       "      <th>sequence</th>\n",
       "      <th>source_x</th>\n",
       "      <th>source_y</th>\n",
       "      <th>start_node_id</th>\n",
       "      <th>target_x</th>\n",
       "      <th>target_y</th>\n",
       "      <th>visits</th>\n",
       "    </tr>\n",
       "  </thead>\n",
       "  <tbody>\n",
       "    <tr>\n",
       "      <th>1</th>\n",
       "      <td>R</td>\n",
       "      <td>1529159</td>\n",
       "      <td>11601974</td>\n",
       "      <td>1248654</td>\n",
       "      <td>4772801010222</td>\n",
       "      <td>54118</td>\n",
       "      <td>4039007</td>\n",
       "      <td>1200.739280</td>\n",
       "      <td>NaN</td>\n",
       "      <td>28350</td>\n",
       "      <td>(LINESTRING (5215218.874285715 1900697.8057142...</td>\n",
       "      <td>1.0</td>\n",
       "      <td>5.216389e+06</td>\n",
       "      <td>1.900428e+06</td>\n",
       "      <td>28349</td>\n",
       "      <td>5.215219e+06</td>\n",
       "      <td>1.900698e+06</td>\n",
       "      <td>1.0</td>\n",
       "    </tr>\n",
       "    <tr>\n",
       "      <th>2</th>\n",
       "      <td>R</td>\n",
       "      <td>1529159</td>\n",
       "      <td>11596276</td>\n",
       "      <td>1248654</td>\n",
       "      <td>4772801010222</td>\n",
       "      <td>54118</td>\n",
       "      <td>2081383</td>\n",
       "      <td>805.193378</td>\n",
       "      <td>NaN</td>\n",
       "      <td>28356</td>\n",
       "      <td>(LINESTRING (5214435.457142857 1900883.8, 5214...</td>\n",
       "      <td>2.0</td>\n",
       "      <td>5.215219e+06</td>\n",
       "      <td>1.900698e+06</td>\n",
       "      <td>28355</td>\n",
       "      <td>5.214435e+06</td>\n",
       "      <td>1.900884e+06</td>\n",
       "      <td>1.0</td>\n",
       "    </tr>\n",
       "    <tr>\n",
       "      <th>3</th>\n",
       "      <td>R</td>\n",
       "      <td>1529159</td>\n",
       "      <td>11596280</td>\n",
       "      <td>1248654</td>\n",
       "      <td>4772801010222</td>\n",
       "      <td>54118</td>\n",
       "      <td>4741637</td>\n",
       "      <td>289.350466</td>\n",
       "      <td>NaN</td>\n",
       "      <td>28360</td>\n",
       "      <td>(LINESTRING (5214154.005714286 1900950.9085714...</td>\n",
       "      <td>3.0</td>\n",
       "      <td>5.214435e+06</td>\n",
       "      <td>1.900884e+06</td>\n",
       "      <td>28359</td>\n",
       "      <td>5.214154e+06</td>\n",
       "      <td>1.900951e+06</td>\n",
       "      <td>1.0</td>\n",
       "    </tr>\n",
       "    <tr>\n",
       "      <th>4</th>\n",
       "      <td>R</td>\n",
       "      <td>1529159</td>\n",
       "      <td>11596278</td>\n",
       "      <td>1248654</td>\n",
       "      <td>4772801010222</td>\n",
       "      <td>54118</td>\n",
       "      <td>5609521</td>\n",
       "      <td>309.002568</td>\n",
       "      <td>NaN</td>\n",
       "      <td>28368</td>\n",
       "      <td>(LINESTRING (5213853.171428571 1901021.4428571...</td>\n",
       "      <td>4.0</td>\n",
       "      <td>5.214154e+06</td>\n",
       "      <td>1.900951e+06</td>\n",
       "      <td>28367</td>\n",
       "      <td>5.213853e+06</td>\n",
       "      <td>1.901021e+06</td>\n",
       "      <td>1.0</td>\n",
       "    </tr>\n",
       "    <tr>\n",
       "      <th>5</th>\n",
       "      <td>R</td>\n",
       "      <td>1529159</td>\n",
       "      <td>11625200</td>\n",
       "      <td>1248654</td>\n",
       "      <td>4772801010222</td>\n",
       "      <td>54118</td>\n",
       "      <td>6066549</td>\n",
       "      <td>44.601080</td>\n",
       "      <td>NaN</td>\n",
       "      <td>28342</td>\n",
       "      <td>(LINESTRING (5213841.011428571 1900978.5314285...</td>\n",
       "      <td>5.0</td>\n",
       "      <td>5.213853e+06</td>\n",
       "      <td>1.901021e+06</td>\n",
       "      <td>28341</td>\n",
       "      <td>5.213841e+06</td>\n",
       "      <td>1.900979e+06</td>\n",
       "      <td>1.0</td>\n",
       "    </tr>\n",
       "  </tbody>\n",
       "</table>\n",
       "</div>"
      ],
      "text/plain": [
       "  ARC_SIDE   BB_UID    BF_UID   LB_UID        LFS_UID  LU_UID  NGD_UID  \\\n",
       "1        R  1529159  11601974  1248654  4772801010222   54118  4039007   \n",
       "2        R  1529159  11596276  1248654  4772801010222   54118  2081383   \n",
       "3        R  1529159  11596280  1248654  4772801010222   54118  4741637   \n",
       "4        R  1529159  11596278  1248654  4772801010222   54118  5609521   \n",
       "5        R  1529159  11625200  1248654  4772801010222   54118  6066549   \n",
       "\n",
       "   SHAPE_Length  S_FLAG  end_node_id  \\\n",
       "1   1200.739280     NaN        28350   \n",
       "2    805.193378     NaN        28356   \n",
       "3    289.350466     NaN        28360   \n",
       "4    309.002568     NaN        28368   \n",
       "5     44.601080     NaN        28342   \n",
       "\n",
       "                                            geometry  sequence      source_x  \\\n",
       "1  (LINESTRING (5215218.874285715 1900697.8057142...       1.0  5.216389e+06   \n",
       "2  (LINESTRING (5214435.457142857 1900883.8, 5214...       2.0  5.215219e+06   \n",
       "3  (LINESTRING (5214154.005714286 1900950.9085714...       3.0  5.214435e+06   \n",
       "4  (LINESTRING (5213853.171428571 1901021.4428571...       4.0  5.214154e+06   \n",
       "5  (LINESTRING (5213841.011428571 1900978.5314285...       5.0  5.213853e+06   \n",
       "\n",
       "       source_y  start_node_id      target_x      target_y  visits  \n",
       "1  1.900428e+06          28349  5.215219e+06  1.900698e+06     1.0  \n",
       "2  1.900698e+06          28355  5.214435e+06  1.900884e+06     1.0  \n",
       "3  1.900884e+06          28359  5.214154e+06  1.900951e+06     1.0  \n",
       "4  1.900951e+06          28367  5.213853e+06  1.901021e+06     1.0  \n",
       "5  1.901021e+06          28341  5.213841e+06  1.900979e+06     1.0  "
      ]
     },
     "execution_count": 46,
     "metadata": {},
     "output_type": "execute_result"
    }
   ],
   "source": [
    "def flatten_edgelist(edgelist):\n",
    "    \"\"\"Turn a MultiGraph edge list into a flattened list.\"\"\"\n",
    "    for multiedge in edgelist:\n",
    "        source = multiedge[0]\n",
    "        target = multiedge[1]\n",
    "        for edge in multiedge[2]:\n",
    "            edge_attribs = multiedge[2][edge]\n",
    "            edge_attribs['source_x'] = source[0]\n",
    "            edge_attribs['source_y'] = source[1]\n",
    "            edge_attribs['target_x'] = target[0]\n",
    "            edge_attribs['target_y'] = target[1]\n",
    "            yield edge_attribs\n",
    "\n",
    "edge_sequence = pd.DataFrame.from_records(flatten_edgelist(cpp_edgelist))\n",
    "#edge_sequence['sequence'] = edge_sequence['sequence'].astype('int')\n",
    "edge_sequence.sort_values(by='sequence', inplace=True)\n",
    "edge_sequence.head()"
   ]
  },
  {
   "cell_type": "code",
   "execution_count": 47,
   "metadata": {},
   "outputs": [
    {
     "data": {
      "image/png": "[encoded data removed]",
      "text/plain": [
       "<Figure size 432x288 with 1 Axes>"
      ]
     },
     "metadata": {
      "needs_background": "light"
     },
     "output_type": "display_data"
    }
   ],
   "source": [
    "edge_sequence.plot(x='source_x', y='source_y', title='Final Sequence', legend=False)\n",
    "\n",
    "plt.axis('off')\n",
    "plt.show()"
   ]
  },
  {
   "cell_type": "code",
   "execution_count": 58,
   "metadata": {},
   "outputs": [
    {
     "name": "stdout",
     "output_type": "stream",
     "text": [
      "Final edge count: 862\n"
     ]
    },
    {
     "data": {
      "text/plain": [
       "1172458    30\n",
       "1286166    26\n",
       "1248649    25\n",
       "1248654    22\n",
       "1286167    18\n",
       "Name: LB_UID, dtype: int64"
      ]
     },
     "execution_count": 58,
     "metadata": {},
     "output_type": "execute_result"
    }
   ],
   "source": [
    "print(\"Final edge count: {}\".format(len(edge_sequence)))\n",
    "edge_sequence['LB_UID'].value_counts().head()"
   ]
  },
  {
   "cell_type": "code",
   "execution_count": 49,
   "metadata": {},
   "outputs": [],
   "source": [
    "# LU_UID\n",
    "# LB_UID\n",
    "# LB_COLCODE\n",
    "# BF_UID\n",
    "# BF_COLCODE\n",
    "# CHAIN_ID\n",
    "# StartNodeNum - node identifier for BF start vertex\n",
    "# Start_X_coord\n",
    "# Start_Y_coord\n",
    "# EndNodeNum - node identifier for BF end vertex\n",
    "# End_x_coord\n",
    "# End_y_coord\n",
    "# LeftRightFLAG - which side of the road (NGD_AL) this BF represents\n",
    "lb_grouped = edge_sequence.groupby('LB_UID', sort=False)\n",
    "lb_colcode = 1\n",
    "for name, group in lb_grouped:\n",
    "    edge_sequence.loc[edge_sequence['LB_UID'] == name, 'lb_colcode'] = lb_colcode\n",
    "    edge_sequence.loc[edge_sequence['LB_UID'] == name, 'bf_colcode'] = range(1, len(group)+1)\n",
    "    lb_colcode += 1"
   ]
  },
  {
   "cell_type": "code",
   "execution_count": 57,
   "metadata": {},
   "outputs": [
    {
     "data": {
      "text/plain": [
       "33.0     30\n",
       "102.0    26\n",
       "31.0     25\n",
       "1.0      22\n",
       "77.0     18\n",
       "Name: lb_colcode, dtype: int64"
      ]
     },
     "execution_count": 57,
     "metadata": {},
     "output_type": "execute_result"
    }
   ],
   "source": [
    "# check values for lb_colcode\n",
    "edge_sequence['lb_colcode'].value_counts().head()"
   ]
  },
  {
   "cell_type": "code",
   "execution_count": 51,
   "metadata": {},
   "outputs": [
    {
     "data": {
      "text/plain": [
       "1.0    141\n",
       "2.0    141\n",
       "3.0    128\n",
       "4.0    107\n",
       "5.0     65\n",
       "Name: bf_colcode, dtype: int64"
      ]
     },
     "execution_count": 51,
     "metadata": {},
     "output_type": "execute_result"
    }
   ],
   "source": [
    "# check values for bf_colcode\n",
    "edge_sequence['bf_colcode'].value_counts().head()"
   ]
  },
  {
   "cell_type": "code",
   "execution_count": 52,
   "metadata": {},
   "outputs": [
    {
     "data": {
      "text/html": [
       "<div>\n",
       "<style scoped>\n",
       "    .dataframe tbody tr th:only-of-type {\n",
       "        vertical-align: middle;\n",
       "    }\n",
       "\n",
       "    .dataframe tbody tr th {\n",
       "        vertical-align: top;\n",
       "    }\n",
       "\n",
       "    .dataframe thead th {\n",
       "        text-align: right;\n",
       "    }\n",
       "</style>\n",
       "<table border=\"1\" class=\"dataframe\">\n",
       "  <thead>\n",
       "    <tr style=\"text-align: right;\">\n",
       "      <th></th>\n",
       "      <th>LU_UID</th>\n",
       "      <th>LB_UID</th>\n",
       "      <th>lb_colcode</th>\n",
       "      <th>BF_UID</th>\n",
       "      <th>bf_colcode</th>\n",
       "      <th>chain_id</th>\n",
       "      <th>start_node_id</th>\n",
       "      <th>source_x</th>\n",
       "      <th>source_y</th>\n",
       "      <th>end_node_id</th>\n",
       "      <th>target_x</th>\n",
       "      <th>target_y</th>\n",
       "      <th>ARC_SIDE</th>\n",
       "    </tr>\n",
       "  </thead>\n",
       "  <tbody>\n",
       "    <tr>\n",
       "      <th>1</th>\n",
       "      <td>54118</td>\n",
       "      <td>1248654</td>\n",
       "      <td>1.0</td>\n",
       "      <td>11601974</td>\n",
       "      <td>1</td>\n",
       "      <td>1</td>\n",
       "      <td>28349</td>\n",
       "      <td>5.216389e+06</td>\n",
       "      <td>1.900428e+06</td>\n",
       "      <td>28350</td>\n",
       "      <td>5.215219e+06</td>\n",
       "      <td>1.900698e+06</td>\n",
       "      <td>R</td>\n",
       "    </tr>\n",
       "    <tr>\n",
       "      <th>2</th>\n",
       "      <td>54118</td>\n",
       "      <td>1248654</td>\n",
       "      <td>1.0</td>\n",
       "      <td>11596276</td>\n",
       "      <td>2</td>\n",
       "      <td>0</td>\n",
       "      <td>28355</td>\n",
       "      <td>5.215219e+06</td>\n",
       "      <td>1.900698e+06</td>\n",
       "      <td>28356</td>\n",
       "      <td>5.214435e+06</td>\n",
       "      <td>1.900884e+06</td>\n",
       "      <td>R</td>\n",
       "    </tr>\n",
       "    <tr>\n",
       "      <th>3</th>\n",
       "      <td>54118</td>\n",
       "      <td>1248654</td>\n",
       "      <td>1.0</td>\n",
       "      <td>11596280</td>\n",
       "      <td>3</td>\n",
       "      <td>0</td>\n",
       "      <td>28359</td>\n",
       "      <td>5.214435e+06</td>\n",
       "      <td>1.900884e+06</td>\n",
       "      <td>28360</td>\n",
       "      <td>5.214154e+06</td>\n",
       "      <td>1.900951e+06</td>\n",
       "      <td>R</td>\n",
       "    </tr>\n",
       "    <tr>\n",
       "      <th>4</th>\n",
       "      <td>54118</td>\n",
       "      <td>1248654</td>\n",
       "      <td>1.0</td>\n",
       "      <td>11596278</td>\n",
       "      <td>4</td>\n",
       "      <td>0</td>\n",
       "      <td>28367</td>\n",
       "      <td>5.214154e+06</td>\n",
       "      <td>1.900951e+06</td>\n",
       "      <td>28368</td>\n",
       "      <td>5.213853e+06</td>\n",
       "      <td>1.901021e+06</td>\n",
       "      <td>R</td>\n",
       "    </tr>\n",
       "    <tr>\n",
       "      <th>5</th>\n",
       "      <td>54118</td>\n",
       "      <td>1248654</td>\n",
       "      <td>1.0</td>\n",
       "      <td>11625200</td>\n",
       "      <td>5</td>\n",
       "      <td>0</td>\n",
       "      <td>28341</td>\n",
       "      <td>5.213853e+06</td>\n",
       "      <td>1.901021e+06</td>\n",
       "      <td>28342</td>\n",
       "      <td>5.213841e+06</td>\n",
       "      <td>1.900979e+06</td>\n",
       "      <td>R</td>\n",
       "    </tr>\n",
       "  </tbody>\n",
       "</table>\n",
       "</div>"
      ],
      "text/plain": [
       "   LU_UID   LB_UID  lb_colcode    BF_UID  bf_colcode  chain_id  start_node_id  \\\n",
       "1   54118  1248654         1.0  11601974           1         1          28349   \n",
       "2   54118  1248654         1.0  11596276           2         0          28355   \n",
       "3   54118  1248654         1.0  11596280           3         0          28359   \n",
       "4   54118  1248654         1.0  11596278           4         0          28367   \n",
       "5   54118  1248654         1.0  11625200           5         0          28341   \n",
       "\n",
       "       source_x      source_y  end_node_id      target_x      target_y  \\\n",
       "1  5.216389e+06  1.900428e+06        28350  5.215219e+06  1.900698e+06   \n",
       "2  5.215219e+06  1.900698e+06        28356  5.214435e+06  1.900884e+06   \n",
       "3  5.214435e+06  1.900884e+06        28360  5.214154e+06  1.900951e+06   \n",
       "4  5.214154e+06  1.900951e+06        28368  5.213853e+06  1.901021e+06   \n",
       "5  5.213853e+06  1.901021e+06        28342  5.213841e+06  1.900979e+06   \n",
       "\n",
       "  ARC_SIDE  \n",
       "1        R  \n",
       "2        R  \n",
       "3        R  \n",
       "4        R  \n",
       "5        R  "
      ]
     },
     "execution_count": 52,
     "metadata": {},
     "output_type": "execute_result"
    }
   ],
   "source": [
    "edge_sequence['chain_id'] = np.where(edge_sequence['bf_colcode'] == 1, 1, 0)\n",
    "edge_sequence['bf_colcode'] = edge_sequence['bf_colcode'].astype('int')\n",
    "edge_sequence[['LU_UID','LB_UID','lb_colcode','BF_UID','bf_colcode','chain_id','start_node_id','source_x','source_y','end_node_id', 'target_x', 'target_y', 'ARC_SIDE']].head()"
   ]
  },
  {
   "cell_type": "code",
   "execution_count": null,
   "metadata": {},
   "outputs": [],
   "source": []
  }
 ],
 "metadata": {
  "kernelspec": {
   "display_name": "Python 3",
   "language": "python",
   "name": "python3"
  },
  "language_info": {
   "codemirror_mode": {
    "name": "ipython",
    "version": 3
   },
   "file_extension": ".py",
   "mimetype": "text/x-python",
   "name": "python",
   "nbconvert_exporter": "python",
   "pygments_lexer": "ipython3",
   "version": "3.6.7"
  }
 },
 "nbformat": 4,
 "nbformat_minor": 2
}
